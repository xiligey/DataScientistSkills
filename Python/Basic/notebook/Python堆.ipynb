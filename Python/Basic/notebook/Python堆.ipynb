{
 "cells": [
  {
   "cell_type": "markdown",
   "source": [
    "堆（Heap）是一种特殊的完全二叉树。所有的父节点都大于或等于（最大堆）或小于或等于（最小堆）它们的子节点。Python的`heapq`模块提供了对最小堆的支持。\n",
    "\n",
    "在最小堆中，最小的元素总是在根节点，即堆的索引0处。`heapq`模块提供了基本的操作如下：\n",
    "\n",
    "1. `heapify(iterable)`：将可迭代对象转换成堆。\n",
    "2. `heappush(heap, item)`：将元素添加到堆中，并保持堆的属性。\n",
    "3. `heappop(heap)`：弹出并返回堆中最小的元素，保持堆的属性。\n",
    "4. `heappushpop(heap, item)`：将元素推入堆，然后弹出并返回堆中最小的元素。\n",
    "5. `heapreplace(heap, item)`：弹出堆中最小的元素，并将新元素推入堆。\n",
    "6. `nlargest(n, iterable, key=None)`：返回可迭代对象中最大的n个元素组成的列表。\n",
    "7. `nsmallest(n, iterable, key=None)`：返回可迭代对象中最小的n个元素组成的列表。"
   ],
   "metadata": {
    "collapsed": false
   },
   "id": "84f7b3f6878e667d"
  },
  {
   "cell_type": "markdown",
   "source": [
    "### 堆的应用\n",
    "\n",
    "堆通常用于实现优先队列，以便能够快速访问队列中的最小（或最大）元素。\n",
    "\n",
    "以下是`heapq`模块在Python中的一个简单示例："
   ],
   "metadata": {
    "collapsed": false
   },
   "id": "1c734c5011aaf91"
  },
  {
   "cell_type": "code",
   "execution_count": 1,
   "id": "initial_id",
   "metadata": {
    "collapsed": true,
    "ExecuteTime": {
     "end_time": "2023-11-15T10:25:11.771532800Z",
     "start_time": "2023-11-15T10:25:11.758841Z"
    }
   },
   "outputs": [
    {
     "name": "stdout",
     "output_type": "stream",
     "text": [
      "[3, 4, 7, 5]\n",
      "3\n",
      "4\n",
      "[3, 4, 7, 5]\n",
      "[7, 5, 4]\n",
      "[3, 4, 5]\n"
     ]
    }
   ],
   "source": [
    "import heapq\n",
    "\n",
    "# 创建一个堆\n",
    "heap = []\n",
    "heapq.heappush(heap, 5)\n",
    "heapq.heappush(heap, 3)\n",
    "heapq.heappush(heap, 7)\n",
    "heapq.heappush(heap, 4)\n",
    "\n",
    "# 查看堆的内容\n",
    "print(heap)  # 输出可能是 [3, 4, 7, 5]\n",
    "\n",
    "# 弹出最小的元素\n",
    "print(heapq.heappop(heap))  # 输出 3，堆变成 [4, 5, 7]\n",
    "\n",
    "# 弹出最小的元素并推入一个新元素\n",
    "print(heapq.heappushpop(heap, 6))  # 输出 4，堆变成 [5, 6, 7]\n",
    "\n",
    "# 堆化一个列表\n",
    "heap_list = [5, 3, 7, 4]\n",
    "heapq.heapify(heap_list)\n",
    "print(heap_list)  # 输出 [3, 4, 7, 5]\n",
    "\n",
    "# 获取最大的三个元素\n",
    "print(heapq.nlargest(3, heap_list))  # 输出 [7, 5, 4]\n",
    "\n",
    "# 获取最小的三个元素\n",
    "print(heapq.nsmallest(3, heap_list))  # 输出 [3, 4, 5]\n"
   ]
  },
  {
   "cell_type": "markdown",
   "source": [
    "在使用最小堆进行堆排序时，元素可以以非递减的顺序从堆中被取出。"
   ],
   "metadata": {
    "collapsed": false
   },
   "id": "c01121e7c98da2be"
  },
  {
   "cell_type": "code",
   "execution_count": 2,
   "outputs": [
    {
     "name": "stdout",
     "output_type": "stream",
     "text": [
      "[3, 4, 5, 7]\n"
     ]
    }
   ],
   "source": [
    "# 继续使用上面定义的 heap_list\n",
    "heapq.heapify(heap_list)  # 假设heap_list已经是一个堆\n",
    "\n",
    "sorted_list = [heapq.heappop(heap_list) for _ in range(len(heap_list))]\n",
    "print(sorted_list)  # 输出排序后的列表 [3, 4, 5, 7]\n"
   ],
   "metadata": {
    "collapsed": false,
    "ExecuteTime": {
     "end_time": "2023-11-15T10:25:21.888796200Z",
     "start_time": "2023-11-15T10:25:21.880087500Z"
    }
   },
   "id": "849db7846632b15a"
  },
  {
   "cell_type": "markdown",
   "source": [
    "若要使用最大堆，Python没有提供直接的支持，但你可以通过将元素的符号反转，来间接地使用heapq模块来实现最大堆，例如："
   ],
   "metadata": {
    "collapsed": false
   },
   "id": "50186bae3cc332cb"
  },
  {
   "cell_type": "code",
   "execution_count": 3,
   "outputs": [
    {
     "name": "stdout",
     "output_type": "stream",
     "text": [
      "7\n"
     ]
    }
   ],
   "source": [
    "# 创建最大堆\n",
    "max_heap = []\n",
    "heapq.heappush(max_heap, -5)\n",
    "heapq.heappush(max_heap, -3)\n",
    "heapq.heappush(max_heap, -7)\n",
    "heapq.heappush(max_heap, -4)\n",
    "\n",
    "# 弹出最大堆中最大的元素\n",
    "print(-heapq.heappop(max_heap))  # 输出 7\n"
   ],
   "metadata": {
    "collapsed": false,
    "ExecuteTime": {
     "end_time": "2023-11-15T10:25:31.776355100Z",
     "start_time": "2023-11-15T10:25:31.767655600Z"
    }
   },
   "id": "9a5d21c79d309c39"
  },
  {
   "cell_type": "markdown",
   "source": [
    "这是因为堆是通过比较元素的大小来维护堆属性的，反转元素的符号意味着比较的顺序也被反转。这种方法允许使用最小堆的所有功能来管理一个最大堆。"
   ],
   "metadata": {
    "collapsed": false
   },
   "id": "80189a36b69a96e"
  },
  {
   "cell_type": "code",
   "execution_count": null,
   "outputs": [],
   "source": [],
   "metadata": {
    "collapsed": false
   },
   "id": "588be5314b85055c"
  }
 ],
 "metadata": {
  "kernelspec": {
   "display_name": "Python 3",
   "language": "python",
   "name": "python3"
  },
  "language_info": {
   "codemirror_mode": {
    "name": "ipython",
    "version": 2
   },
   "file_extension": ".py",
   "mimetype": "text/x-python",
   "name": "python",
   "nbconvert_exporter": "python",
   "pygments_lexer": "ipython2",
   "version": "2.7.6"
  }
 },
 "nbformat": 4,
 "nbformat_minor": 5
}
