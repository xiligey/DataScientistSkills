{
 "cells": [
  {
   "cell_type": "markdown",
   "source": [
    "在Python中，`Counter` 是 `collections` 模块中的一个特殊的字典子类，用于计数可哈希对象。\n",
    "\n",
    "它是一个集合，其中元素存储为字典的键，而元素的计数存储为字典的值。"
   ],
   "metadata": {
    "collapsed": false
   },
   "id": "710975968eb22d32"
  },
  {
   "cell_type": "markdown",
   "source": [
    "### 创建 `Counter`\n",
    "\n",
    "`Counter` 对象可以通过提供一个可迭代对象或映射来初始化，或者直接使用关键字参数："
   ],
   "metadata": {
    "collapsed": false
   },
   "id": "d4621c6666da5e6c"
  },
  {
   "cell_type": "code",
   "execution_count": 3,
   "outputs": [],
   "source": [
    "from collections import Counter\n",
    "\n",
    "# 通过列表初始化\n",
    "c = Counter(['a', 'b', 'c', 'a', 'b', 'b'])\n",
    "\n",
    "# 通过字典初始化\n",
    "c = Counter({'a': 2, 'b': 3, 'c': 1})\n",
    "\n",
    "# 通过关键字参数初始化\n",
    "c = Counter(a=2, b=3, c=1)\n"
   ],
   "metadata": {
    "collapsed": false,
    "ExecuteTime": {
     "end_time": "2023-11-15T12:30:59.694833500Z",
     "start_time": "2023-11-15T12:30:59.672593900Z"
    }
   },
   "id": "a84f5868fa5fa384"
  },
  {
   "cell_type": "markdown",
   "source": [
    "每个方法都会创建一个 `Counter` 对象，其中包含了元素以及它们的计数。"
   ],
   "metadata": {
    "collapsed": false
   },
   "id": "e9d8c6369049107c"
  },
  {
   "cell_type": "markdown",
   "source": [
    "### 访问计数\n",
    "\n",
    "你可以使用字典语法来访问任何元素的计数："
   ],
   "metadata": {
    "collapsed": false
   },
   "id": "c33ac79ca6dedff3"
  },
  {
   "cell_type": "code",
   "execution_count": 4,
   "id": "initial_id",
   "metadata": {
    "collapsed": true,
    "ExecuteTime": {
     "end_time": "2023-11-15T12:30:59.696338400Z",
     "start_time": "2023-11-15T12:30:59.677104800Z"
    }
   },
   "outputs": [
    {
     "name": "stdout",
     "output_type": "stream",
     "text": [
      "2\n",
      "3\n",
      "0\n"
     ]
    }
   ],
   "source": [
    "print(c['a'])  # 输出 2\n",
    "print(c['b'])  # 输出 3\n",
    "\n",
    "# 访问不存在的元素计数，返回0而不是引发 KeyError\n",
    "print(c['d'])  # 输出 0\n"
   ]
  },
  {
   "cell_type": "markdown",
   "source": [
    "### 更新计数\n",
    "\n",
    "`Counter` 对象可以使用 `update` 方法更新元素计数，这可以通过另一个 `Counter` 对象或可迭代对象完成："
   ],
   "metadata": {
    "collapsed": false
   },
   "id": "4f6fed8105696319"
  },
  {
   "cell_type": "code",
   "execution_count": 5,
   "outputs": [],
   "source": [
    "# 通过另一个计数器更新\n",
    "c.update({'a': 1, 'b': 2, 'd': 3})\n",
    "\n",
    "# 通过列表更新\n",
    "c.update(['a', 'b', 'b', 'e'])\n"
   ],
   "metadata": {
    "collapsed": false,
    "ExecuteTime": {
     "end_time": "2023-11-15T12:30:59.707894300Z",
     "start_time": "2023-11-15T12:30:59.680665500Z"
    }
   },
   "id": "2a76bdaf9522e76f"
  },
  {
   "cell_type": "markdown",
   "source": [
    "这些更新会增加给定元素的计数，而不是替换它们。\n"
   ],
   "metadata": {
    "collapsed": false
   },
   "id": "a753c64ea6bc7724"
  },
  {
   "cell_type": "markdown",
   "source": [
    "\n",
    "### 常见的 `Counter` 方法\n",
    "\n",
    "`Counter` 提供了一些有用的方法，比如 `most_common`，它返回一个列表，按计数顺序排列："
   ],
   "metadata": {
    "collapsed": false
   },
   "id": "6f2d638e1fadf826"
  },
  {
   "cell_type": "code",
   "execution_count": 6,
   "outputs": [
    {
     "name": "stdout",
     "output_type": "stream",
     "text": [
      "[('b', 7), ('a', 4), ('d', 3)]\n"
     ]
    }
   ],
   "source": [
    "# 获取最常见的三个元素及其计数\n",
    "print(c.most_common(3))\n"
   ],
   "metadata": {
    "collapsed": false,
    "ExecuteTime": {
     "end_time": "2023-11-15T12:30:59.762466900Z",
     "start_time": "2023-11-15T12:30:59.686854400Z"
    }
   },
   "id": "a702b74b682614b6"
  },
  {
   "cell_type": "markdown",
   "source": [
    "还有 `elements` 方法，返回一个迭代器，按计数重复元素："
   ],
   "metadata": {
    "collapsed": false
   },
   "id": "c8c475199a201ca2"
  },
  {
   "cell_type": "code",
   "execution_count": 7,
   "outputs": [
    {
     "data": {
      "text/plain": "['a',\n 'a',\n 'a',\n 'a',\n 'b',\n 'b',\n 'b',\n 'b',\n 'b',\n 'b',\n 'b',\n 'c',\n 'd',\n 'd',\n 'd',\n 'e']"
     },
     "execution_count": 7,
     "metadata": {},
     "output_type": "execute_result"
    }
   ],
   "source": [
    "# 创建一个迭代器，返回所有元素，按它们的计数重复\n",
    "list(c.elements())  # 返回 ['a', 'a', 'a', 'b', 'b', 'b', 'b', 'b', 'c', 'd', 'd', 'd', 'e']\n"
   ],
   "metadata": {
    "collapsed": false,
    "ExecuteTime": {
     "end_time": "2023-11-15T12:30:59.794484700Z",
     "start_time": "2023-11-15T12:30:59.689832Z"
    }
   },
   "id": "52648a0863002047"
  },
  {
   "cell_type": "markdown",
   "source": [
    "### 数学运算\n",
    "\n",
    "`Counter` 类支持各种数学运算，允许你组合两个 `Counter` 对象："
   ],
   "metadata": {
    "collapsed": false
   },
   "id": "723d4e11fe846f0d"
  },
  {
   "cell_type": "code",
   "execution_count": 9,
   "outputs": [
    {
     "name": "stdout",
     "output_type": "stream",
     "text": [
      "Counter({'a': 4, 'b': 3})\n",
      "Counter({'a': 2})\n",
      "Counter({'a': 1, 'b': 1})\n",
      "Counter({'a': 3, 'b': 2})\n"
     ]
    }
   ],
   "source": [
    "c1 = Counter(a=3, b=1)\n",
    "c2 = Counter(a=1, b=2)\n",
    "\n",
    "# 相加\n",
    "print(c1 + c2)  # 结果 Counter({'a': 4, 'b': 3})\n",
    "\n",
    "# 相减\n",
    "print(c1 - c2)  # 结果 Counter({'a': 2})\n",
    "\n",
    "# 交集\n",
    "print(c1 & c2)  # 结果 Counter({'a': 1, 'b': 1})\n",
    "\n",
    "# 并集\n",
    "print(c1 | c2)  # 结果 Counter({'a': 3, 'b': 2})\n"
   ],
   "metadata": {
    "collapsed": false,
    "ExecuteTime": {
     "end_time": "2023-11-15T12:31:26.386731600Z",
     "start_time": "2023-11-15T12:31:26.380725200Z"
    }
   },
   "id": "7bd65c303bc56639"
  },
  {
   "cell_type": "markdown",
   "source": [
    "这些操作可以非常有用，例如在进行多项统计数据的合并或者比较时。"
   ],
   "metadata": {
    "collapsed": false
   },
   "id": "f33a40a05844569b"
  },
  {
   "cell_type": "markdown",
   "source": [
    "### 总结\n",
    "\n",
    "`Counter` 是一个强大的工具，用于快速简便地进行频率分析和计数统计。它提供了丰富的功能集和操作，是处理计数任务的理想选择。由于 `Counter` 是字典的子类，它继承了字典的所有方法和特性，因此你可以在 `Counter` 上使用标准的字典操作。"
   ],
   "metadata": {
    "collapsed": false
   },
   "id": "7bf90a5fdfa65c87"
  },
  {
   "cell_type": "code",
   "execution_count": 8,
   "outputs": [],
   "source": [],
   "metadata": {
    "collapsed": false,
    "ExecuteTime": {
     "end_time": "2023-11-15T12:30:59.798019400Z",
     "start_time": "2023-11-15T12:30:59.701386Z"
    }
   },
   "id": "cd23b8a70131d462"
  }
 ],
 "metadata": {
  "kernelspec": {
   "display_name": "Python 3",
   "language": "python",
   "name": "python3"
  },
  "language_info": {
   "codemirror_mode": {
    "name": "ipython",
    "version": 2
   },
   "file_extension": ".py",
   "mimetype": "text/x-python",
   "name": "python",
   "nbconvert_exporter": "python",
   "pygments_lexer": "ipython2",
   "version": "2.7.6"
  }
 },
 "nbformat": 4,
 "nbformat_minor": 5
}
