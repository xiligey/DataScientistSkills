{
 "cells": [
  {
   "cell_type": "markdown",
   "source": [
    "集合。set 对象是由具有唯一性的 hashable 对象所组成的无序多项集。 \n",
    "\n",
    "常见的用途包括成员检测、从序列中去除重复项以及数学中的集合类计算，例如交集、并集、差集与对称差集等等。\n",
    "\n",
    "与其他多项集一样，集合也支持 x in set, len(set) 和 for x in set。 \n",
    "\n",
    "作为一种无序的多项集，集合并不记录元素位置或插入顺序。 相应地，集合不支持索引、切片或其他序列类的操作。"
   ],
   "metadata": {
    "collapsed": false
   },
   "id": "f19219704e6ca6b"
  },
  {
   "cell_type": "code",
   "execution_count": 1,
   "id": "initial_id",
   "metadata": {
    "collapsed": true,
    "ExecuteTime": {
     "end_time": "2023-11-15T10:19:16.220083Z",
     "start_time": "2023-11-15T10:19:16.206524100Z"
    }
   },
   "outputs": [
    {
     "name": "stdout",
     "output_type": "stream",
     "text": [
      "{1, 2, 3} {1, 2, 3, 4}\n",
      "{1, 2, 3, 4}\n",
      "set()\n",
      "{2, 3}\n",
      "{1}\n",
      "{1}\n",
      "{1, 2, 3, 4}\n",
      "True\n",
      "True\n",
      "{1, 2, 3, 4, 5, 6}\n",
      "{1, 2, 3, 4, 6}\n"
     ]
    }
   ],
   "source": [
    "# 定义集合\n",
    "s1 = {1, 2, 3}\n",
    "list1 = [1, 2, 3, 2, 3, 4]\n",
    "s2 = set(list1)\n",
    "print(s1, s2)\n",
    "\n",
    "# 添加一个元素\n",
    "s1.add(4)\n",
    "print(s1)\n",
    "\n",
    "# 清空集合的所有元素\n",
    "s1.clear()\n",
    "print(s1)\n",
    "\n",
    "# A∩B\n",
    "print({1, 2, 3}.intersection({2, 3, 4}))\n",
    "\n",
    "# A-B\n",
    "print({1, 2, 3}.difference({2, 3, 4}))\n",
    "\n",
    "# A-B\n",
    "print({1, 2, 3} - {2, 3, 4})\n",
    "\n",
    "# A∪B\n",
    "print({1, 2, 3}.union({2, 3, 4}))\n",
    "\n",
    "# A包含于B\n",
    "print({1, 2, 3}.issubset({1, 2, 3, 4}))\n",
    "\n",
    "# A包含B\n",
    "print({1, 2, 3, 4, 5}.issuperset({1, 2, 3, 4}))\n",
    "\n",
    "# 删除排序后的第一个元素\n",
    "x = {6, 0, 1, 2, 3, 4, 5}\n",
    "x.pop()\n",
    "print(x)\n",
    "\n",
    "# 删除指定元素\n",
    "x.remove(5)\n",
    "print(x)\n"
   ]
  },
  {
   "cell_type": "code",
   "execution_count": null,
   "outputs": [],
   "source": [],
   "metadata": {
    "collapsed": false
   },
   "id": "c7221027dd838cb4"
  }
 ],
 "metadata": {
  "kernelspec": {
   "display_name": "Python 3",
   "language": "python",
   "name": "python3"
  },
  "language_info": {
   "codemirror_mode": {
    "name": "ipython",
    "version": 2
   },
   "file_extension": ".py",
   "mimetype": "text/x-python",
   "name": "python",
   "nbconvert_exporter": "python",
   "pygments_lexer": "ipython2",
   "version": "2.7.6"
  }
 },
 "nbformat": 4,
 "nbformat_minor": 5
}
