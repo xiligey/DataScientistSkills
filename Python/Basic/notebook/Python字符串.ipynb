{
 "cells": [
  {
   "cell_type": "markdown",
   "source": [
    "在 Python 中处理文本数据是使用 str 对象，也称为 字符串。 字符串是由 Unicode 码位构成的不可变 序列。 字符串字面值有多种不同的写法：\n",
    "\n",
    "单引号: '允许包含有 \"双\" 引号'\n",
    "\n",
    "双引号: \"允许嵌入 '单' 引号\"\n",
    "\n",
    "三重引号: '''三重单引号''', \"\"\"三重双引号\"\"\"\n",
    "\n",
    "使用三重引号的字符串可以跨越多行 —— 其中所有的空白字符都将包含在该字符串字面值中。"
   ],
   "metadata": {
    "collapsed": false
   },
   "id": "39145d1930fc199d"
  },
  {
   "cell_type": "code",
   "execution_count": 15,
   "outputs": [
    {
     "name": "stdout",
     "output_type": "stream",
     "text": [
      "abcde 12345 !@#$%\n",
      "1\n",
      "2\n",
      "3\n"
     ]
    }
   ],
   "source": [
    "s1 = 'abcde'  # 单引号 '\n",
    "s2 = \"12345\"  # 双引号 \"\n",
    "# 三引号 ''' 或 \"\"\"\n",
    "s3 = \"\"\"!@#$%\n",
    "1\n",
    "2\n",
    "3\n",
    "\"\"\"\n",
    "print(s1, s2, s3)\n"
   ],
   "metadata": {
    "collapsed": false,
    "ExecuteTime": {
     "end_time": "2023-11-15T09:53:14.036599100Z",
     "start_time": "2023-11-15T09:53:14.028087300Z"
    }
   },
   "id": "4f2483b2c60b69c3"
  },
  {
   "cell_type": "markdown",
   "source": [
    "内置的str函数："
   ],
   "metadata": {
    "collapsed": false
   },
   "id": "ace9891d0f17f98c"
  },
  {
   "cell_type": "code",
   "execution_count": 16,
   "outputs": [
    {
     "data": {
      "text/plain": "('123', '[1, 2, 3]')"
     },
     "execution_count": 16,
     "metadata": {},
     "output_type": "execute_result"
    }
   ],
   "source": [
    "s4 = str(123)  # '123'\n",
    "s5 = str([1, 2, 3])  # '[1, 2, 3]'\n",
    "s4, s5"
   ],
   "metadata": {
    "collapsed": false,
    "ExecuteTime": {
     "end_time": "2023-11-15T09:53:47.264725700Z",
     "start_time": "2023-11-15T09:53:47.254747400Z"
    }
   },
   "id": "83be2c9dafd018"
  },
  {
   "cell_type": "markdown",
   "source": [
    "作为单一表达式组成部分，之间只由空格分隔的多个字符串字面值会被隐式地转换为单个字符串字面值"
   ],
   "metadata": {
    "collapsed": false
   },
   "id": "37b31d8250f754f4"
  },
  {
   "cell_type": "code",
   "execution_count": 1,
   "id": "initial_id",
   "metadata": {
    "collapsed": true,
    "ExecuteTime": {
     "end_time": "2023-11-15T08:54:35.496782900Z",
     "start_time": "2023-11-15T08:54:35.489204800Z"
    }
   },
   "outputs": [
    {
     "data": {
      "text/plain": "'spam eggs'"
     },
     "execution_count": 1,
     "metadata": {},
     "output_type": "execute_result"
    }
   ],
   "source": [
    "a = \"spam \" \"eggs\"\n",
    "a"
   ]
  },
  {
   "cell_type": "markdown",
   "source": [
    "由于不存在单独的“字符”类型，对字符串做索引操作将产生一个长度为 1 的字符串。 \n",
    "也就是说，对于一个非空字符串 s, s[0] == s[0:1]"
   ],
   "metadata": {
    "collapsed": false
   },
   "id": "4fd15ccde5e6e776"
  },
  {
   "cell_type": "code",
   "execution_count": 2,
   "outputs": [
    {
     "data": {
      "text/plain": "(str, str, str)"
     },
     "execution_count": 2,
     "metadata": {},
     "output_type": "execute_result"
    }
   ],
   "source": [
    "s = '123'\n",
    "type(s), type(s[0]), type(s[0:1])"
   ],
   "metadata": {
    "collapsed": false,
    "ExecuteTime": {
     "end_time": "2023-11-15T09:04:52.458787900Z",
     "start_time": "2023-11-15T09:04:52.450540100Z"
    }
   },
   "id": "2dbbb7b1f63f8826"
  },
  {
   "cell_type": "markdown",
   "source": [
    "不存在可变的字符串类型，但是 str.join() 或 io.StringIO 可以被被用来根据多个片段高效率地构建字符串。"
   ],
   "metadata": {
    "collapsed": false
   },
   "id": "c8625043c43bb1ad"
  },
  {
   "cell_type": "code",
   "execution_count": 5,
   "outputs": [
    {
     "data": {
      "text/plain": "'1-2-3-4-5'"
     },
     "execution_count": 5,
     "metadata": {},
     "output_type": "execute_result"
    }
   ],
   "source": [
    "'-'.join(['1', '2', '3', '4', '5'])"
   ],
   "metadata": {
    "collapsed": false,
    "ExecuteTime": {
     "end_time": "2023-11-15T09:07:01.048206Z",
     "start_time": "2023-11-15T09:07:01.034833500Z"
    }
   },
   "id": "24974f0171f493ad"
  },
  {
   "cell_type": "markdown",
   "source": [
    "io.StringIO是一个使用内存文本缓冲的文本流"
   ],
   "metadata": {
    "collapsed": false
   },
   "id": "d33626fc024f932a"
  },
  {
   "cell_type": "code",
   "execution_count": 6,
   "outputs": [
    {
     "data": {
      "text/plain": "3"
     },
     "execution_count": 6,
     "metadata": {},
     "output_type": "execute_result"
    }
   ],
   "source": [
    "from io import StringIO\n",
    "si = StringIO()\n",
    "si.write(\"123\")\n",
    "si.write(\"\\n\")\n",
    "si.write(\"456\")"
   ],
   "metadata": {
    "collapsed": false,
    "ExecuteTime": {
     "end_time": "2023-11-15T09:07:39.770687Z",
     "start_time": "2023-11-15T09:07:39.753946700Z"
    }
   },
   "id": "ddd151eb607c4dbd"
  },
  {
   "cell_type": "code",
   "execution_count": 12,
   "outputs": [
    {
     "data": {
      "text/plain": "'123\\n456'"
     },
     "execution_count": 12,
     "metadata": {},
     "output_type": "execute_result"
    }
   ],
   "source": [
    "si.getvalue()"
   ],
   "metadata": {
    "collapsed": false,
    "ExecuteTime": {
     "end_time": "2023-11-15T09:08:18.805404200Z",
     "start_time": "2023-11-15T09:08:18.787695Z"
    }
   },
   "id": "fb7a3040b16b4b14"
  },
  {
   "cell_type": "code",
   "execution_count": 13,
   "outputs": [],
   "source": [
    "si.close()  # 当 close() 方法被调用时将会丢弃文本缓冲区"
   ],
   "metadata": {
    "collapsed": false,
    "ExecuteTime": {
     "end_time": "2023-11-15T09:09:13.040596300Z",
     "start_time": "2023-11-15T09:09:13.008525200Z"
    }
   },
   "id": "8b13d5dc3ef493d2"
  },
  {
   "cell_type": "code",
   "execution_count": 14,
   "outputs": [
    {
     "ename": "ValueError",
     "evalue": "I/O operation on closed file",
     "output_type": "error",
     "traceback": [
      "\u001B[1;31m---------------------------------------------------------------------------\u001B[0m",
      "\u001B[1;31mValueError\u001B[0m                                Traceback (most recent call last)",
      "Cell \u001B[1;32mIn[14], line 1\u001B[0m\n\u001B[1;32m----> 1\u001B[0m \u001B[43msi\u001B[49m\u001B[38;5;241;43m.\u001B[39;49m\u001B[43mgetvalue\u001B[49m\u001B[43m(\u001B[49m\u001B[43m)\u001B[49m\n",
      "\u001B[1;31mValueError\u001B[0m: I/O operation on closed file"
     ]
    }
   ],
   "source": [
    "si.getvalue()"
   ],
   "metadata": {
    "collapsed": false,
    "ExecuteTime": {
     "end_time": "2023-11-15T09:09:16.177408300Z",
     "start_time": "2023-11-15T09:09:16.137037300Z"
    }
   },
   "id": "117737230d2ef0fb"
  },
  {
   "cell_type": "markdown",
   "source": [
    "# 字符串常见操作"
   ],
   "metadata": {
    "collapsed": false
   },
   "id": "dc58ea51e594b1e0"
  },
  {
   "cell_type": "code",
   "execution_count": 17,
   "outputs": [],
   "source": [
    "s1 = \"无边落木萧萧下，不尽长江滚滚来\""
   ],
   "metadata": {
    "collapsed": false,
    "ExecuteTime": {
     "end_time": "2023-11-15T09:54:21.233872500Z",
     "start_time": "2023-11-15T09:54:21.214325400Z"
    }
   },
   "id": "7eafe8da335d2c98"
  },
  {
   "cell_type": "code",
   "execution_count": 18,
   "outputs": [
    {
     "name": "stdout",
     "output_type": "stream",
     "text": [
      "15\n",
      "木\n",
      "江\n",
      "无边落\n",
      "江滚滚\n",
      "无落萧下不长滚来\n",
      "无木下尽滚\n",
      "来滚滚江长尽不，下萧萧木落边无\n"
     ]
    }
   ],
   "source": [
    "# 求长度\n",
    "print(len(s1))  # 15\n",
    "\n",
    "# 索引第i个字符\n",
    "print(s1[3])  # 木\n",
    "\n",
    "# 索引倒数第i个字符\n",
    "print(s1[-4])  # 江\n",
    "\n",
    "# 切片选择第1到第3个字符\n",
    "print(s1[0:3])\n",
    "\n",
    "# 切片选择倒数第4到倒数第2个字符\n",
    "print(s1[-4:-1])\n",
    "\n",
    "# 每隔一个字选一个\n",
    "print(s1[::2])\n",
    "\n",
    "# 每隔两个字选一个\n",
    "print(s1[::3])\n",
    "\n",
    "# 反转字符串\n",
    "print(s1[::-1])\n"
   ],
   "metadata": {
    "collapsed": false,
    "ExecuteTime": {
     "end_time": "2023-11-15T09:54:21.379309700Z",
     "start_time": "2023-11-15T09:54:21.365896200Z"
    }
   },
   "id": "968fe45fdf439d4e"
  },
  {
   "cell_type": "markdown",
   "source": [
    "**Q1. 思考一下，这个输出什么？**\n",
    "```python\n",
    "print(s1[::1])\n",
    "print(s1[::-2])\n",
    "```"
   ],
   "metadata": {
    "collapsed": false
   },
   "id": "21d3224c92960c2f"
  },
  {
   "cell_type": "code",
   "execution_count": 20,
   "outputs": [
    {
     "name": "stdout",
     "output_type": "stream",
     "text": [
      "10\n",
      "-1\n",
      "1\n"
     ]
    }
   ],
   "source": [
    "# 查找子串\n",
    "print(s1.find(\"长江\"))\n",
    "print(s1.find(\"长江\", 0, 6))\n",
    "# 统计子串的次数\n",
    "print(s1.count(\"长江\"))\n"
   ],
   "metadata": {
    "collapsed": false,
    "ExecuteTime": {
     "end_time": "2023-11-15T09:56:42.508774Z",
     "start_time": "2023-11-15T09:56:42.503720600Z"
    }
   },
   "id": "4e0d0c0151479fad"
  },
  {
   "cell_type": "markdown",
   "source": [
    "**更多常见字符串操作，可查阅[官方文档](https://docs.python.org/zh-cn/3.11/library/string.html#)**"
   ],
   "metadata": {
    "collapsed": false
   },
   "id": "9734a42ede8c5163"
  },
  {
   "cell_type": "markdown",
   "source": [
    "**A1:** "
   ],
   "metadata": {
    "collapsed": false
   },
   "id": "646775409c7d684d"
  },
  {
   "cell_type": "code",
   "execution_count": 19,
   "outputs": [
    {
     "name": "stdout",
     "output_type": "stream",
     "text": [
      "无边落木萧萧下，不尽长江滚滚来\n",
      "来滚长不下萧落无\n"
     ]
    }
   ],
   "source": [
    "print(s1[::1])\n",
    "print(s1[::-2])"
   ],
   "metadata": {
    "collapsed": false,
    "ExecuteTime": {
     "end_time": "2023-11-15T09:56:29.145649200Z",
     "start_time": "2023-11-15T09:56:29.131955400Z"
    }
   },
   "id": "84bf80f90f983414"
  },
  {
   "cell_type": "code",
   "execution_count": null,
   "outputs": [],
   "source": [],
   "metadata": {
    "collapsed": false
   },
   "id": "88a487e8ba35e445"
  }
 ],
 "metadata": {
  "kernelspec": {
   "display_name": "Python 3",
   "language": "python",
   "name": "python3"
  },
  "language_info": {
   "codemirror_mode": {
    "name": "ipython",
    "version": 2
   },
   "file_extension": ".py",
   "mimetype": "text/x-python",
   "name": "python",
   "nbconvert_exporter": "python",
   "pygments_lexer": "ipython2",
   "version": "2.7.6"
  }
 },
 "nbformat": 4,
 "nbformat_minor": 5
}
