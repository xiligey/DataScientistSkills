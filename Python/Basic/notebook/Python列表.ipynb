{
 "cells": [
  {
   "cell_type": "markdown",
   "source": [
    "列表是可变序列，通常用于存放同类项目的集合（其中精确的相似程度将根据应用而变化）。\n",
    "\n",
    "可以用多种方式构建列表：\n",
    "\n",
    "- 使用一对方括号来表示空列表: []\n",
    "- 使用方括号，其中的项以逗号分隔: [a], [a, b, c]\n",
    "- 使用列表推导式: [x for x in iterable]\n",
    "- 使用类型的构造器: list() 或 list(iterable)"
   ],
   "metadata": {
    "collapsed": false
   },
   "id": "e8be700ee07ac804"
  },
  {
   "cell_type": "code",
   "execution_count": 1,
   "id": "initial_id",
   "metadata": {
    "collapsed": true,
    "ExecuteTime": {
     "end_time": "2023-11-15T10:01:34.373004900Z",
     "start_time": "2023-11-15T10:01:34.361227800Z"
    }
   },
   "outputs": [
    {
     "name": "stdout",
     "output_type": "stream",
     "text": [
      "<class 'list'> <class 'list'> <class 'list'> <class 'list'>\n"
     ]
    }
   ],
   "source": [
    "l1 = [1, 2, 3]\n",
    "l2 = ['x', True, None, [1, 2, 3]]\n",
    "l3 = list('123')\n",
    "l4 = []\n",
    "print(type(l1), type(l2), type(l3), type(l4))\n"
   ]
  },
  {
   "cell_type": "markdown",
   "source": [
    "# 列表的常用操作"
   ],
   "metadata": {
    "collapsed": false
   },
   "id": "fa9d9ea5275886a4"
  },
  {
   "cell_type": "code",
   "execution_count": 3,
   "outputs": [
    {
     "name": "stdout",
     "output_type": "stream",
     "text": [
      "6\n",
      "1 5 6\n",
      "[1, 2, 3, 1000, 5, 6]\n",
      "[2, 3] [1000, 5, 6] [2, 3, 1000]\n",
      "[1, 2, 3, 1000, 5, 6, 19]\n",
      "[1, 2, 3, 1000, 5, 10000, 6, 19]\n",
      "[1, 2, 3, 1000, 5, 10000, 6, 19, 'a', 'b', 'c']\n",
      "[1, 2, 3, 4, 5, 6]\n",
      "[1, 2, 3, 5, 10000, 6, 19, 'a', 'b', 'c']\n",
      "[1, 2, 5, 10000, 6, 19, 'a', 'b', 'c']\n",
      "1\n",
      "2\n",
      "5\n",
      "10000\n",
      "6\n",
      "19\n",
      "a\n",
      "b\n",
      "c\n"
     ]
    }
   ],
   "source": [
    "l1 = [1, 2, 3, 4, 5, 6]\n",
    "# 求长度\n",
    "print(len(l1))\n",
    "\n",
    "# 索引某个元素\n",
    "print(l1[0], l1[4], l1[-1])\n",
    "\n",
    "# 修改某个元素\n",
    "l1[3] = 1000\n",
    "print(l1)\n",
    "\n",
    "# 切片\n",
    "print(l1[1:3], l1[-3:], l1[-5:-2])\n",
    "\n",
    "# 在末尾添加元素\n",
    "l1.append(19)\n",
    "print(l1)\n",
    "\n",
    "# 在指定位置插入元素\n",
    "l1.insert(5, 10000)\n",
    "print(l1)\n",
    "\n",
    "# 在末尾添加另一个列表的所有元素\n",
    "l2 = ['a', 'b', 'c']\n",
    "l1.extend(l2)\n",
    "print(l1)\n",
    "\n",
    "# 两个列表元素合并成一个新的列表\n",
    "print([1, 2, 3] + [4, 5, 6])\n",
    "\n",
    "# 删除某个元素\n",
    "l1.pop(3)\n",
    "print(l1)\n",
    "\n",
    "# 删除某个元素\n",
    "del l1[2]\n",
    "print(l1)\n",
    "\n",
    "# 列表遍历\n",
    "for i in l1:\n",
    "    print(i)\n",
    "\n"
   ],
   "metadata": {
    "collapsed": false,
    "ExecuteTime": {
     "end_time": "2023-11-15T10:02:24.752906300Z",
     "start_time": "2023-11-15T10:02:24.747642300Z"
    }
   },
   "id": "163048bbe8e80c1c"
  },
  {
   "cell_type": "markdown",
   "source": [
    "**列表推导式**"
   ],
   "metadata": {
    "collapsed": false
   },
   "id": "2d76395a4fbb344d"
  },
  {
   "cell_type": "markdown",
   "source": [
    "如何构建一个列表，第一个数是1，第二个是4，依次是9,16,25,36,49 一直到10000？"
   ],
   "metadata": {
    "collapsed": false
   },
   "id": "1b2f2e3cb107643b"
  },
  {
   "cell_type": "code",
   "execution_count": 4,
   "outputs": [
    {
     "name": "stdout",
     "output_type": "stream",
     "text": [
      "[1, 4, 9, 16, 25, 36, 49, 64, 81, 100, 121, 144, 169, 196, 225, 256, 289, 324, 361, 400, 441, 484, 529, 576, 625, 676, 729, 784, 841, 900, 961, 1024, 1089, 1156, 1225, 1296, 1369, 1444, 1521, 1600, 1681, 1764, 1849, 1936, 2025, 2116, 2209, 2304, 2401, 2500, 2601, 2704, 2809, 2916, 3025, 3136, 3249, 3364, 3481, 3600, 3721, 3844, 3969, 4096, 4225, 4356, 4489, 4624, 4761, 4900, 5041, 5184, 5329, 5476, 5625, 5776, 5929, 6084, 6241, 6400, 6561, 6724, 6889, 7056, 7225, 7396, 7569, 7744, 7921, 8100, 8281, 8464, 8649, 8836, 9025, 9216, 9409, 9604, 9801, 10000]\n"
     ]
    }
   ],
   "source": [
    "l2 = []\n",
    "for i in range(1, 101):\n",
    "    l2.append(i * i)\n",
    "print(l2)"
   ],
   "metadata": {
    "collapsed": false,
    "ExecuteTime": {
     "end_time": "2023-11-15T10:03:05.788824900Z",
     "start_time": "2023-11-15T10:03:05.778511900Z"
    }
   },
   "id": "1200bbf23415cb37"
  },
  {
   "cell_type": "markdown",
   "source": [
    "列表推导式写法更简洁"
   ],
   "metadata": {
    "collapsed": false
   },
   "id": "be28f2852c634ff5"
  },
  {
   "cell_type": "code",
   "execution_count": 6,
   "outputs": [
    {
     "name": "stdout",
     "output_type": "stream",
     "text": [
      "[1, 4, 9, 16, 25, 36, 49, 64, 81, 100, 121, 144, 169, 196, 225, 256, 289, 324, 361, 400, 441, 484, 529, 576, 625, 676, 729, 784, 841, 900, 961, 1024, 1089, 1156, 1225, 1296, 1369, 1444, 1521, 1600, 1681, 1764, 1849, 1936, 2025, 2116, 2209, 2304, 2401, 2500, 2601, 2704, 2809, 2916, 3025, 3136, 3249, 3364, 3481, 3600, 3721, 3844, 3969, 4096, 4225, 4356, 4489, 4624, 4761, 4900, 5041, 5184, 5329, 5476, 5625, 5776, 5929, 6084, 6241, 6400, 6561, 6724, 6889, 7056, 7225, 7396, 7569, 7744, 7921, 8100, 8281, 8464, 8649, 8836, 9025, 9216, 9409, 9604, 9801, 10000]\n"
     ]
    }
   ],
   "source": [
    "l3 = [i*i for i in range(1, 101)]\n",
    "print(l3)"
   ],
   "metadata": {
    "collapsed": false,
    "ExecuteTime": {
     "end_time": "2023-11-15T10:03:27.407507200Z",
     "start_time": "2023-11-15T10:03:27.391793700Z"
    }
   },
   "id": "86570c37530f7787"
  },
  {
   "cell_type": "code",
   "execution_count": null,
   "outputs": [],
   "source": [],
   "metadata": {
    "collapsed": false
   },
   "id": "5549ad360c79ef3f"
  }
 ],
 "metadata": {
  "kernelspec": {
   "display_name": "Python 3",
   "language": "python",
   "name": "python3"
  },
  "language_info": {
   "codemirror_mode": {
    "name": "ipython",
    "version": 2
   },
   "file_extension": ".py",
   "mimetype": "text/x-python",
   "name": "python",
   "nbconvert_exporter": "python",
   "pygments_lexer": "ipython2",
   "version": "2.7.6"
  }
 },
 "nbformat": 4,
 "nbformat_minor": 5
}
