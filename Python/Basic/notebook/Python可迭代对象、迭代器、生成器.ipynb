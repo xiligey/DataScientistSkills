{
 "cells": [
  {
   "cell_type": "markdown",
   "source": [
    "# 可迭代对象"
   ],
   "metadata": {
    "collapsed": false
   },
   "id": "5b3707cda2f4f82c"
  },
  {
   "cell_type": "markdown",
   "source": [
    "可迭代对象，`Iterable`。\n",
    "\n",
    "Python中任意的对象，只要它定义了可以返回一个迭代器的`__iter__`方法，或者定义了可以支持下标索引的`__getitem__`方法（这些双下划线方法会在其他章节中全面解释），那么它就是一个可迭代对象。\n",
    "\n",
    "简单说，可迭代对象就是能提供迭代器的任意对象。\n",
    "\n",
    "在Python中，可以使用`collections.abc`模块中的`Iterable`类来检查一个对象是否是可迭代的。\n",
    "\n",
    "如果对象实现了`__iter__()`方法或者`__getitem__()`方法（并且能接受从零开始的索引），那么它就是可迭代的。\n",
    "\n",
    "以下是一个如何判断对象是否可迭代的例子："
   ],
   "metadata": {
    "collapsed": false
   },
   "id": "50a4de0cdfd906ed"
  },
  {
   "cell_type": "code",
   "execution_count": 1,
   "id": "initial_id",
   "metadata": {
    "collapsed": true,
    "ExecuteTime": {
     "end_time": "2023-11-16T02:28:39.662900300Z",
     "start_time": "2023-11-16T02:28:39.650720500Z"
    }
   },
   "outputs": [
    {
     "name": "stdout",
     "output_type": "stream",
     "text": [
      "True\n",
      "True\n",
      "False\n"
     ]
    }
   ],
   "source": [
    "from collections.abc import Iterable\n",
    "\n",
    "\n",
    "def is_iterable(obj):\n",
    "    return isinstance(obj, Iterable)\n",
    "\n",
    "\n",
    "print(is_iterable([1, 2, 3]))  # 列表是可迭代的，输出 True\n",
    "print(is_iterable('abc'))  # 字符串是可迭代的，输出 True\n",
    "print(is_iterable(123))  # 整数不是可迭代的，输出 False\n"
   ]
  },
  {
   "cell_type": "markdown",
   "source": [
    "如果不想或不能使用`collections.abc`模块，还可以通过检查对象是否有`__iter__`方法或者`__getitem__`方法来判断："
   ],
   "metadata": {
    "collapsed": false
   },
   "id": "d9b9edf19c750f19"
  },
  {
   "cell_type": "code",
   "execution_count": 2,
   "outputs": [
    {
     "name": "stdout",
     "output_type": "stream",
     "text": [
      "True\n",
      "True\n",
      "False\n"
     ]
    }
   ],
   "source": [
    "def is_iterable(obj):\n",
    "    return hasattr(obj, '__iter__') or hasattr(obj, '__getitem__')\n",
    "\n",
    "# 示例\n",
    "print(is_iterable([1, 2, 3]))  # 输出 True\n",
    "print(is_iterable('abc'))      # 输出 True\n",
    "print(is_iterable(123))        # 输出 False"
   ],
   "metadata": {
    "collapsed": false,
    "ExecuteTime": {
     "end_time": "2023-11-16T02:29:54.430755500Z",
     "start_time": "2023-11-16T02:29:54.416152700Z"
    }
   },
   "id": "b86bda8ac126d0c1"
  },
  {
   "cell_type": "markdown",
   "source": [
    "请注意，这些方法并不完美。例如，一个对象可能有一个`__getitem__`方法但并不真的支持整数索引迭代，\n",
    "\n",
    "或者可能有一个自定义的`__iter__`方法但它不返回一个迭代器。\n",
    "\n",
    "不过在大多数情况下，这种方式足够用来判断一个对象是否是可迭代的。"
   ],
   "metadata": {
    "collapsed": false
   },
   "id": "3fd21958d5ade099"
  },
  {
   "cell_type": "markdown",
   "source": [
    "# 迭代器"
   ],
   "metadata": {
    "collapsed": false
   },
   "id": "d8e0d43bc7218b3e"
  },
  {
   "cell_type": "markdown",
   "source": [
    "在Python中，迭代器（Iterator）是遵守迭代器协议的对象，它包含两个基本的方法：`__iter__()`和`__next__()`。\n",
    "\n",
    "- `__iter__()` 方法返回迭代器对象本身。这是使用`for`和`in`语句时所必需的。\n",
    "\n",
    "- `__next__()` 方法返回容器的下一个元素。当没有更多元素时，应该抛出`StopIteration`异常。\n",
    "\n",
    "任何支持迭代的对象都会实现这两个方法。\n",
    "\n",
    "Python中的列表（list）、元组（tuple）、字典（dict）、集合（set）和字符串（str）都是可迭代的，\n",
    "\n",
    "因为它们都实现了`__iter__()`方法以返回一个迭代器，该迭代器又实现了`__next__()`方法。"
   ],
   "metadata": {
    "collapsed": false
   },
   "id": "270539546167669"
  },
  {
   "cell_type": "markdown",
   "source": [
    "下面是如何实现一个简单的计数器作为迭代器的例子："
   ],
   "metadata": {
    "collapsed": false
   },
   "id": "328198ad797b402f"
  },
  {
   "cell_type": "code",
   "execution_count": 3,
   "outputs": [
    {
     "name": "stdout",
     "output_type": "stream",
     "text": [
      "3\n",
      "4\n",
      "5\n",
      "6\n",
      "7\n",
      "8\n"
     ]
    }
   ],
   "source": [
    "class Counter:\n",
    "    def __init__(self, low, high):\n",
    "        self.current = low\n",
    "        self.high = high\n",
    "\n",
    "    def __iter__(self):\n",
    "        return self\n",
    "\n",
    "    def __next__(self):\n",
    "        if self.current > self.high:\n",
    "            raise StopIteration\n",
    "        else:\n",
    "            self.current += 1\n",
    "            return self.current - 1\n",
    "\n",
    "# 使用迭代器\n",
    "for i in Counter(3, 8):\n",
    "    print(i)\n"
   ],
   "metadata": {
    "collapsed": false,
    "ExecuteTime": {
     "end_time": "2023-11-16T02:34:24.766921900Z",
     "start_time": "2023-11-16T02:34:24.754595900Z"
    }
   },
   "id": "b5a6ec7ec660208"
  },
  {
   "cell_type": "markdown",
   "source": [
    "在这个例子中，`Counter` 类实现了一个迭代器，它可以迭代给定范围内的所有整数。\n",
    "\n",
    "当迭代到`high`属性所定义的边界之外时，它会抛出`StopIteration`异常，告诉`for`循环停止迭代。"
   ],
   "metadata": {
    "collapsed": false
   },
   "id": "5475c39a48085081"
  },
  {
   "cell_type": "markdown",
   "source": [
    "此外，你也可以使用内置的函数next()来显式地从迭代器中获取下一个元素："
   ],
   "metadata": {
    "collapsed": false
   },
   "id": "2a839c940cd69735"
  },
  {
   "cell_type": "code",
   "execution_count": 4,
   "outputs": [
    {
     "name": "stdout",
     "output_type": "stream",
     "text": [
      "3\n",
      "4\n"
     ]
    }
   ],
   "source": [
    "counter = Counter(3, 8)\n",
    "print(next(counter)) # 输出 3\n",
    "print(next(counter)) # 输出 4\n",
    "# ...依此类推，直到 StopIteration 被抛出"
   ],
   "metadata": {
    "collapsed": false,
    "ExecuteTime": {
     "end_time": "2023-11-16T02:34:49.065022500Z",
     "start_time": "2023-11-16T02:34:49.040513500Z"
    }
   },
   "id": "1d5a1103cd2adc2b"
  },
  {
   "cell_type": "markdown",
   "source": [
    "当`StopIteration`异常被抛出时，迭代器将到达其边界，无法再提供更多的值。\n",
    "\n",
    "这种机制使得迭代器非常适合表示无限大的数据流，因为它们不需要在开始迭代之前将所有元素都加载到内存中。"
   ],
   "metadata": {
    "collapsed": false
   },
   "id": "4f2d9f2b6d40cb53"
  },
  {
   "cell_type": "markdown",
   "source": [
    "这次我们创建一个迭代器，这个迭代器将对给定的数据集合实施Fibonacci数列的规则，即下一个数是前两个数的和。\n",
    "\n",
    "它会生成数列中的每个数，直到达到指定的序列长度。"
   ],
   "metadata": {
    "collapsed": false
   },
   "id": "23c8977114d64ed6"
  },
  {
   "cell_type": "code",
   "execution_count": 5,
   "outputs": [
    {
     "name": "stdout",
     "output_type": "stream",
     "text": [
      "0\n",
      "1\n",
      "1\n",
      "1\n",
      "2\n"
     ]
    }
   ],
   "source": [
    "class Fibonacci:\n",
    "    def __init__(self, max_number):\n",
    "        self.max_number = max_number\n",
    "        self.first = 0\n",
    "        self.second = 1\n",
    "        self.count = 0\n",
    "\n",
    "    def __iter__(self):\n",
    "        return self\n",
    "\n",
    "    def __next__(self):\n",
    "        if self.count >= self.max_number:\n",
    "            raise StopIteration\n",
    "\n",
    "        if self.count == 0:\n",
    "            self.count += 1\n",
    "            return self.first\n",
    "        elif self.count == 1:\n",
    "            self.count += 1\n",
    "            return self.second\n",
    "        else:\n",
    "            self.count += 1\n",
    "            self.first, self.second = self.second, self.first + self.second\n",
    "            return self.first\n",
    "\n",
    "# 使用迭代器\n",
    "fib = Fibonacci(5)\n",
    "for num in fib:\n",
    "    print(num)"
   ],
   "metadata": {
    "collapsed": false,
    "ExecuteTime": {
     "end_time": "2023-11-16T02:35:38.825392100Z",
     "start_time": "2023-11-16T02:35:38.810151900Z"
    }
   },
   "id": "651b4e2708c0a91c"
  },
  {
   "cell_type": "markdown",
   "source": [
    "在这个例子中，`Fibonacci` 类实现了一个迭代器，它可以产生Fibonacci数列。\n",
    "\n",
    "这个迭代器将会在产生`max_number`个数之后停止。\n",
    "\n",
    "这里`__iter__()`方法返回迭代器对象自己，而`__next__()`方法计算下一个Fibonacci数，并在需要时更新内部状态。\n",
    "\n",
    "如果迭代器达到了最大数量，`__next__()`将抛出`StopIteration`异常，这将结束迭代。"
   ],
   "metadata": {
    "collapsed": false
   },
   "id": "cdf0007e6a096ecf"
  },
  {
   "cell_type": "markdown",
   "source": [
    "# 生成器"
   ],
   "metadata": {
    "collapsed": false
   },
   "id": "97faf3d9d79bead2"
  },
  {
   "cell_type": "markdown",
   "source": [
    "在Python中，生成器是一种用于创建迭代器的简单直接的工具。\n",
    "\n",
    "一个生成器是一个包含了`yield`表达式的函数，这种函数在你对其进行迭代时，每次`yield`一个值。\n",
    "\n",
    "生成器在每次迭代中产生值（使用`yield`语句），并通过保持函数的状态来保持其局部变量和控制流的位置，\n",
    "\n",
    "这与普通函数执行到最后或者遇到`return`语句就完全结束的行为是不同的。"
   ],
   "metadata": {
    "collapsed": false
   },
   "id": "34d1dd978b2aa53a"
  },
  {
   "cell_type": "markdown",
   "source": [
    "使用生成器可以非常方便地实现相同的Fibonacci数列迭代器："
   ],
   "metadata": {
    "collapsed": false
   },
   "id": "d8095e15d4e40767"
  },
  {
   "cell_type": "code",
   "execution_count": 6,
   "outputs": [
    {
     "name": "stdout",
     "output_type": "stream",
     "text": [
      "0\n",
      "1\n",
      "1\n",
      "2\n",
      "3\n"
     ]
    }
   ],
   "source": [
    "def fibonacci(max_number):\n",
    "    a, b = 0, 1\n",
    "    count = 0\n",
    "    while count < max_number:\n",
    "        yield a\n",
    "        a, b = b, a + b\n",
    "        count += 1\n",
    "\n",
    "# 使用生成器\n",
    "for num in fibonacci(5):\n",
    "    print(num)"
   ],
   "metadata": {
    "collapsed": false,
    "ExecuteTime": {
     "end_time": "2023-11-16T02:58:36.570671800Z",
     "start_time": "2023-11-16T02:58:36.546179400Z"
    }
   },
   "id": "d29d27ccef14d5b8"
  },
  {
   "cell_type": "markdown",
   "source": [
    "在这个`fibonacci`函数中，`yield`语句用来一次返回一个Fibonacci数。\n",
    "\n",
    "每次迭代时，生成器从它上次`yield`出来的地方继续执行（维持其所有局部变量的状态），这直到下一个`yield`语句，或者当函数执行完毕，生成器自动停止迭代，这时候不再有`yield`，也就不会产生`StopIteration`异常。\n",
    "\n",
    "生成器提供了一种更简洁的方式来实现简单的迭代器的功能，无需编写一个实现`__iter__()`和`__next__()`方法的类。\n",
    "\n",
    "生成器的另一个好处是它们在内存使用上更高效，因为在任何给定时间内，只有迭代器当前的状态需要被存储在内存中，而不是整个数据集。\n",
    "这在处理大数据流或可能无限的序列时特别有用。"
   ],
   "metadata": {
    "collapsed": false
   },
   "id": "fd6c05e5ff5ebebf"
  },
  {
   "cell_type": "code",
   "execution_count": null,
   "outputs": [],
   "source": [],
   "metadata": {
    "collapsed": false
   },
   "id": "58c939b6e12bdc56"
  }
 ],
 "metadata": {
  "kernelspec": {
   "display_name": "Python 3",
   "language": "python",
   "name": "python3"
  },
  "language_info": {
   "codemirror_mode": {
    "name": "ipython",
    "version": 2
   },
   "file_extension": ".py",
   "mimetype": "text/x-python",
   "name": "python",
   "nbconvert_exporter": "python",
   "pygments_lexer": "ipython2",
   "version": "2.7.6"
  }
 },
 "nbformat": 4,
 "nbformat_minor": 5
}
