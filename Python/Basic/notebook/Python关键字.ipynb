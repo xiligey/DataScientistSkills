{
 "cells": [
  {
   "cell_type": "markdown",
   "source": [
    "Python3.11中一共有35个关键字。以下内容做简要介绍，后续会详细介绍各种关键字的详细使用场景"
   ],
   "metadata": {
    "collapsed": false
   },
   "id": "734a12dc901003f9"
  },
  {
   "cell_type": "markdown",
   "source": [
    "# 逻辑运算符 and or not"
   ],
   "metadata": {
    "collapsed": false
   },
   "id": "72a0ae694df0383f"
  },
  {
   "cell_type": "markdown",
   "source": [
    "- `and`: `A` `B`都为`True`，`A and B`才为`True`，否则为`False`\n",
    "- `or`：`A` 或 `B` 至少有一个为`True`，`A or B`为`True`，否则为`False`\n",
    "- `not`：`A` 为 `True`，则`not A`为`False`；`A`为`False`，则`not A`为 `True`"
   ],
   "metadata": {
    "collapsed": false
   },
   "id": "7c05904191af7da1"
  },
  {
   "cell_type": "code",
   "execution_count": 1,
   "id": "initial_id",
   "metadata": {
    "collapsed": true,
    "ExecuteTime": {
     "end_time": "2023-11-15T03:50:17.653526200Z",
     "start_time": "2023-11-15T03:50:17.644017Z"
    }
   },
   "outputs": [
    {
     "name": "stdout",
     "output_type": "stream",
     "text": [
      "True\n",
      "False\n",
      "False\n",
      "False\n"
     ]
    }
   ],
   "source": [
    "# and\n",
    "print(True and True)  # True\n",
    "print(True and False)  # False\n",
    "print(False and True)  # False\n",
    "print(False and False)  # False"
   ]
  },
  {
   "cell_type": "code",
   "execution_count": 2,
   "outputs": [
    {
     "name": "stdout",
     "output_type": "stream",
     "text": [
      "True\n",
      "True\n",
      "True\n",
      "False\n"
     ]
    }
   ],
   "source": [
    "# or\n",
    "print(True or True)  # True\n",
    "print(True or False)  # True\n",
    "print(False or True)  # True\n",
    "print(False or False)  # False"
   ],
   "metadata": {
    "collapsed": false,
    "ExecuteTime": {
     "end_time": "2023-11-15T03:50:21.783640500Z",
     "start_time": "2023-11-15T03:50:21.774322800Z"
    }
   },
   "id": "3d82c89d4270b12d"
  },
  {
   "cell_type": "code",
   "execution_count": 3,
   "outputs": [
    {
     "name": "stdout",
     "output_type": "stream",
     "text": [
      "False\n",
      "True\n"
     ]
    }
   ],
   "source": [
    "# not\n",
    "print(not True)  # False\n",
    "print(not False)  # True"
   ],
   "metadata": {
    "collapsed": false,
    "ExecuteTime": {
     "end_time": "2023-11-15T03:50:26.712361300Z",
     "start_time": "2023-11-15T03:50:26.702416400Z"
    }
   },
   "id": "cc502fdf28f958a9"
  },
  {
   "cell_type": "markdown",
   "source": [
    "# 条件语句 if elif else\n",
    "- `if`: 如果\n",
    "- `elif`：否则如果\n",
    "- `else`：否则\n"
   ],
   "metadata": {
    "collapsed": false
   },
   "id": "33172dd973954a1b"
  },
  {
   "cell_type": "code",
   "execution_count": 4,
   "outputs": [
    {
     "name": "stdout",
     "output_type": "stream",
     "text": [
      "-1 <= 0\n"
     ]
    }
   ],
   "source": [
    "s = input('请输入一个数字\\n')\n",
    "s = int(s)\n",
    "if s > 10:  # 如果数字大于10，则...\n",
    "    print('%s > 10' % s)\n",
    "elif s > 5:  # 否则如果数字大于5，则...\n",
    "    print('%s > 5' % s)\n",
    "elif s > 0:  # 否则如果数字大于0，则... (可以有多个elif)\n",
    "    print('%s > 0' % s)\n",
    "else:  # 否则，...\n",
    "    print('%s <= 0' % s)"
   ],
   "metadata": {
    "collapsed": false,
    "ExecuteTime": {
     "end_time": "2023-11-15T03:51:16.629210100Z",
     "start_time": "2023-11-15T03:51:13.095445200Z"
    }
   },
   "id": "d10ba7b08ea13d52"
  },
  {
   "cell_type": "markdown",
   "source": [
    "# 循环语句 for while\n",
    "- `for`: 创建一个for循环，可以用来遍历操作\n",
    "- `while`: 定义while循环，while循环将一直继续下去继续，直到while的条件为False方才停止"
   ],
   "metadata": {
    "collapsed": false
   },
   "id": "f3ae2ad24fef5028"
  },
  {
   "cell_type": "code",
   "execution_count": 5,
   "outputs": [
    {
     "name": "stdout",
     "output_type": "stream",
     "text": [
      "北京\n",
      "上海\n",
      "广州\n",
      "深圳\n"
     ]
    }
   ],
   "source": [
    "cities = ['北京', '上海', '广州', '深圳']\n",
    "for city in cities:\n",
    "    print(city)"
   ],
   "metadata": {
    "collapsed": false,
    "ExecuteTime": {
     "end_time": "2023-11-15T03:51:45.804212400Z",
     "start_time": "2023-11-15T03:51:45.793701500Z"
    }
   },
   "id": "89ee5efd518fc359"
  },
  {
   "cell_type": "code",
   "execution_count": 6,
   "outputs": [
    {
     "name": "stdout",
     "output_type": "stream",
     "text": [
      "5\n",
      "4\n",
      "3\n",
      "2\n",
      "1\n"
     ]
    }
   ],
   "source": [
    "max_times = 5\n",
    "while max_times > 0:\n",
    "    print(max_times)\n",
    "    max_times -= 1"
   ],
   "metadata": {
    "collapsed": false,
    "ExecuteTime": {
     "end_time": "2023-11-15T03:51:51.976372300Z",
     "start_time": "2023-11-15T03:51:51.955858500Z"
    }
   },
   "id": "367265d3946aacbb"
  },
  {
   "cell_type": "markdown",
   "source": [
    "# 布尔变量 True False"
   ],
   "metadata": {
    "collapsed": false
   },
   "id": "e6c278cdb800e782"
  },
  {
   "cell_type": "code",
   "execution_count": 7,
   "outputs": [
    {
     "name": "stdout",
     "output_type": "stream",
     "text": [
      "True\n",
      "False\n"
     ]
    }
   ],
   "source": [
    "print(1 > 0)  # True\n",
    "print(1 < 0)  # False"
   ],
   "metadata": {
    "collapsed": false,
    "ExecuteTime": {
     "end_time": "2023-11-15T03:52:06.453905200Z",
     "start_time": "2023-11-15T03:52:06.443395Z"
    }
   },
   "id": "ece5f71cf7c3bca5"
  },
  {
   "cell_type": "markdown",
   "source": [
    "# 循环控制 continue break\n",
    "`continue`: 在循环中结束当前循环，直接跳到下一次循环\n",
    "`break`: 停止循环"
   ],
   "metadata": {
    "collapsed": false
   },
   "id": "556ea02774f9270d"
  },
  {
   "cell_type": "code",
   "execution_count": 8,
   "outputs": [
    {
     "name": "stdout",
     "output_type": "stream",
     "text": [
      "1\n",
      "3\n",
      "5\n",
      "7\n",
      "9\n"
     ]
    }
   ],
   "source": [
    "for i in range(10):\n",
    "    if i % 2 == 0:\n",
    "        continue\n",
    "    print(i)"
   ],
   "metadata": {
    "collapsed": false,
    "ExecuteTime": {
     "end_time": "2023-11-15T03:52:44.577626600Z",
     "start_time": "2023-11-15T03:52:44.567116700Z"
    }
   },
   "id": "9546999ad1042569"
  },
  {
   "cell_type": "code",
   "execution_count": 11,
   "outputs": [
    {
     "name": "stdout",
     "output_type": "stream",
     "text": [
      "10\n",
      "9\n",
      "8\n",
      "7\n",
      "6\n",
      "5\n",
      "4\n"
     ]
    }
   ],
   "source": [
    "n = 10\n",
    "while n > 0:\n",
    "    print(n)\n",
    "    if n < 5:\n",
    "        break\n",
    "    n -= 1"
   ],
   "metadata": {
    "collapsed": false,
    "ExecuteTime": {
     "end_time": "2023-11-15T03:53:46.470301500Z",
     "start_time": "2023-11-15T03:53:46.452793200Z"
    }
   },
   "id": "e3c7813ffc4dcd2b"
  },
  {
   "cell_type": "markdown",
   "source": [
    "# 占位符 pass\n",
    "\n",
    "执行pass语句时，不会有任何影响，只是占位作用代表空白代码"
   ],
   "metadata": {
    "collapsed": false
   },
   "id": "58c3e8df884c904e"
  },
  {
   "cell_type": "code",
   "execution_count": 13,
   "outputs": [],
   "source": [
    "for i in range(100):\n",
    "    pass\n",
    "\n",
    "\n",
    "def f1():\n",
    "    pass"
   ],
   "metadata": {
    "collapsed": false,
    "ExecuteTime": {
     "end_time": "2023-11-15T03:55:02.985157700Z",
     "start_time": "2023-11-15T03:55:02.978640500Z"
    }
   },
   "id": "3a81e1f639f71c08"
  },
  {
   "cell_type": "markdown",
   "source": [
    "# 异常 try except finally raise"
   ],
   "metadata": {
    "collapsed": false
   },
   "id": "247757702e59171f"
  },
  {
   "cell_type": "code",
   "execution_count": 15,
   "outputs": [
    {
     "name": "stdout",
     "output_type": "stream",
     "text": [
      "年龄格式不正确\n",
      "invalid literal for int() with base 10: '12a'\n",
      "结束\n"
     ]
    }
   ],
   "source": [
    "try:  # 尝试做一些代码工作\n",
    "    age = input(\"请输入年龄：\\n\")\n",
    "    age = int(age)\n",
    "    if age <= 0:\n",
    "        raise Exception(\"年龄必须>0\")  # 主动引发一个异常\n",
    "except ValueError as e:  # 如果try里面报了ValueError的异常，则被Python捕获住，进行下一步处理\n",
    "    print(\"年龄格式不正确\")\n",
    "    print(e)\n",
    "except TypeError as e:  # 可以同时捕获多种类型的异常，对不同类型异常做不同处理\n",
    "    print(e)\n",
    "\n",
    "finally:  # 无论try和except的代码如何，最终一定会运行的代码，一般用于关闭文件、数据库连接等\n",
    "    print('结束')"
   ],
   "metadata": {
    "collapsed": false,
    "ExecuteTime": {
     "end_time": "2023-11-15T04:02:48.187249500Z",
     "start_time": "2023-11-15T04:02:44.932157100Z"
    }
   },
   "id": "e7dbad1f65c79bce"
  },
  {
   "cell_type": "markdown",
   "source": [
    "# 模板引入 import from as"
   ],
   "metadata": {
    "collapsed": false
   },
   "id": "f0d8e9de58885eb1"
  },
  {
   "cell_type": "code",
   "execution_count": 16,
   "outputs": [],
   "source": [],
   "metadata": {
    "collapsed": false,
    "ExecuteTime": {
     "end_time": "2023-11-15T04:04:34.776485Z",
     "start_time": "2023-11-15T04:04:34.165036800Z"
    }
   },
   "id": "9da644416e3ae631"
  },
  {
   "cell_type": "markdown",
   "source": [
    "# 函数 def return"
   ],
   "metadata": {
    "collapsed": false
   },
   "id": "18690e35f2c66250"
  },
  {
   "cell_type": "code",
   "execution_count": 17,
   "outputs": [
    {
     "data": {
      "text/plain": "4"
     },
     "execution_count": 17,
     "metadata": {},
     "output_type": "execute_result"
    }
   ],
   "source": [
    "def add_one(n: int) -> int:  # def:定义函数\n",
    "    return n + 1  # return 结束函数并返回值\n",
    "\n",
    "\n",
    "add_one(3)"
   ],
   "metadata": {
    "collapsed": false,
    "ExecuteTime": {
     "end_time": "2023-11-15T04:06:06.996980800Z",
     "start_time": "2023-11-15T04:06:06.965086Z"
    }
   },
   "id": "b60dcbddf9ded348"
  },
  {
   "cell_type": "markdown",
   "source": [
    "# 类 class"
   ],
   "metadata": {
    "collapsed": false
   },
   "id": "6330842b62ab99ad"
  },
  {
   "cell_type": "code",
   "execution_count": 19,
   "outputs": [
    {
     "name": "stdout",
     "output_type": "stream",
     "text": [
      "<class '__main__.Book'>\n",
      "<__main__.Book object at 0x000002023CD77290>\n"
     ]
    }
   ],
   "source": [
    "class Book:  # 定义一个Book类\n",
    "    def __init__(self, name: str, price: float):\n",
    "        self.name = name\n",
    "        self.price = price\n",
    "\n",
    "\n",
    "b = Book(\"Python基础\", 0)\n",
    "print(Book)  # 类\n",
    "print(b)  # 对象"
   ],
   "metadata": {
    "collapsed": false,
    "ExecuteTime": {
     "end_time": "2023-11-15T04:07:45.013482200Z",
     "start_time": "2023-11-15T04:07:44.998409600Z"
    }
   },
   "id": "2a78ea03c7e22bc5"
  },
  {
   "cell_type": "markdown",
   "source": [
    "# 匿名函数 lambda"
   ],
   "metadata": {
    "collapsed": false
   },
   "id": "6ad19d38431e166b"
  },
  {
   "cell_type": "code",
   "execution_count": 20,
   "outputs": [
    {
     "name": "stdout",
     "output_type": "stream",
     "text": [
      "5\n"
     ]
    }
   ],
   "source": [
    "add_two = lambda x: x + 2  # 一行创建一个匿名函数\n",
    "print(add_two(3))  # 5"
   ],
   "metadata": {
    "collapsed": false,
    "ExecuteTime": {
     "end_time": "2023-11-15T04:09:15.525135Z",
     "start_time": "2023-11-15T04:09:15.502624800Z"
    }
   },
   "id": "71ae8dd70ba8c911"
  },
  {
   "cell_type": "code",
   "execution_count": 22,
   "outputs": [
    {
     "data": {
      "text/plain": "[2, 4, 6, 8]"
     },
     "execution_count": 22,
     "metadata": {},
     "output_type": "execute_result"
    }
   ],
   "source": [
    "list(map(lambda x: x * 2, [1, 2, 3, 4]))  # 将匿名函数定义好并直接传参"
   ],
   "metadata": {
    "collapsed": false,
    "ExecuteTime": {
     "end_time": "2023-11-15T04:09:58.619106700Z",
     "start_time": "2023-11-15T04:09:58.603246200Z"
    }
   },
   "id": "119a6d601aaedbbd"
  },
  {
   "cell_type": "markdown",
   "source": [
    "# 删除对象 del"
   ],
   "metadata": {
    "collapsed": false
   },
   "id": "e865b0ff5665863b"
  },
  {
   "cell_type": "code",
   "execution_count": 23,
   "outputs": [
    {
     "name": "stdout",
     "output_type": "stream",
     "text": [
      "[2, 3, 4, 5]\n"
     ]
    }
   ],
   "source": [
    "array = [1, 2, 3, 4, 5]\n",
    "del array[0]  # 删除列表中的第一个元素\n",
    "print(array)"
   ],
   "metadata": {
    "collapsed": false,
    "ExecuteTime": {
     "end_time": "2023-11-15T04:10:39.186933800Z",
     "start_time": "2023-11-15T04:10:39.162380600Z"
    }
   },
   "id": "a094da62adee6b3f"
  },
  {
   "cell_type": "code",
   "execution_count": 24,
   "outputs": [
    {
     "ename": "NameError",
     "evalue": "name 'array' is not defined",
     "output_type": "error",
     "traceback": [
      "\u001B[1;31m---------------------------------------------------------------------------\u001B[0m",
      "\u001B[1;31mNameError\u001B[0m                                 Traceback (most recent call last)",
      "Cell \u001B[1;32mIn[24], line 2\u001B[0m\n\u001B[0;32m      1\u001B[0m \u001B[38;5;28;01mdel\u001B[39;00m array\n\u001B[1;32m----> 2\u001B[0m \u001B[38;5;28mprint\u001B[39m(\u001B[43marray\u001B[49m)\n",
      "\u001B[1;31mNameError\u001B[0m: name 'array' is not defined"
     ]
    }
   ],
   "source": [
    "del array  # 删除对象array\n",
    "print(array)  # 再想打印array就会报错了"
   ],
   "metadata": {
    "collapsed": false,
    "ExecuteTime": {
     "end_time": "2023-11-15T04:10:47.242774600Z",
     "start_time": "2023-11-15T04:10:47.114511300Z"
    }
   },
   "id": "5db3eb04177e7c19"
  },
  {
   "cell_type": "markdown",
   "source": [
    "# 变量作用域 global nonlocal\n",
    "- global：创建一个全局变量\n",
    "- nonlocal：声明一个非局部变量，用于标识外部作用域的变量"
   ],
   "metadata": {
    "collapsed": false
   },
   "id": "81432d7d0b92d704"
  },
  {
   "cell_type": "code",
   "execution_count": 25,
   "outputs": [
    {
     "name": "stdout",
     "output_type": "stream",
     "text": [
      "6\n",
      "5\n"
     ]
    }
   ],
   "source": [
    "x = 100\n",
    "\n",
    "\n",
    "def global_test():\n",
    "    global x  # 将x定义为全局变量后，令x=5，则会改变函数外层的x的值，因为此时x已经不是函数内部变量，而是全局变量了\n",
    "    x = 5\n",
    "    return x + 1\n",
    "\n",
    "\n",
    "print(global_test())\n",
    "print(x)"
   ],
   "metadata": {
    "collapsed": false,
    "ExecuteTime": {
     "end_time": "2023-11-15T04:15:13.136944300Z",
     "start_time": "2023-11-15T04:15:13.106641Z"
    }
   },
   "id": "f6d889db688d0940"
  },
  {
   "cell_type": "code",
   "execution_count": 41,
   "outputs": [],
   "source": [
    "def nonlocal_test():\n",
    "    x = 100\n",
    "\n",
    "    def print_x():\n",
    "        nonlocal x  # nonlocal只能在内部函数中使用，作用是在内部函数也可以访问外部函数的变量，并可以对其修改\n",
    "        x += 1\n",
    "        print(x)\n",
    "\n",
    "    print_x()\n",
    "    return x"
   ],
   "metadata": {
    "collapsed": false,
    "ExecuteTime": {
     "end_time": "2023-11-15T04:28:01.008968500Z",
     "start_time": "2023-11-15T04:28:00.989456900Z"
    }
   },
   "id": "264eb2175c6dfda7"
  },
  {
   "cell_type": "code",
   "execution_count": 43,
   "outputs": [
    {
     "name": "stdout",
     "output_type": "stream",
     "text": [
      "101\n"
     ]
    }
   ],
   "source": [
    "res = nonlocal_test()"
   ],
   "metadata": {
    "collapsed": false,
    "ExecuteTime": {
     "end_time": "2023-11-15T04:28:09.851921700Z",
     "start_time": "2023-11-15T04:28:09.833161500Z"
    }
   },
   "id": "5ff94e5f3ca756f1"
  },
  {
   "cell_type": "code",
   "execution_count": 44,
   "outputs": [
    {
     "name": "stdout",
     "output_type": "stream",
     "text": [
      "101\n"
     ]
    }
   ],
   "source": [
    "print(res)"
   ],
   "metadata": {
    "collapsed": false,
    "ExecuteTime": {
     "end_time": "2023-11-15T04:28:13.573013Z",
     "start_time": "2023-11-15T04:28:13.539085400Z"
    }
   },
   "id": "25bff351ae550a35"
  },
  {
   "cell_type": "code",
   "execution_count": 47,
   "outputs": [
    {
     "ename": "UnboundLocalError",
     "evalue": "cannot access local variable 'x' where it is not associated with a value",
     "output_type": "error",
     "traceback": [
      "\u001B[1;31m---------------------------------------------------------------------------\u001B[0m",
      "\u001B[1;31mUnboundLocalError\u001B[0m                         Traceback (most recent call last)",
      "Cell \u001B[1;32mIn[47], line 9\u001B[0m\n\u001B[0;32m      7\u001B[0m     print_x()\n\u001B[0;32m      8\u001B[0m     \u001B[38;5;28;01mreturn\u001B[39;00m x\n\u001B[1;32m----> 9\u001B[0m \u001B[43mnonlocal_test\u001B[49m\u001B[43m(\u001B[49m\u001B[43m)\u001B[49m\n",
      "Cell \u001B[1;32mIn[47], line 7\u001B[0m, in \u001B[0;36mnonlocal_test\u001B[1;34m()\u001B[0m\n\u001B[0;32m      5\u001B[0m     x \u001B[38;5;241m+\u001B[39m\u001B[38;5;241m=\u001B[39m \u001B[38;5;241m1\u001B[39m\n\u001B[0;32m      6\u001B[0m     \u001B[38;5;28mprint\u001B[39m(x)\n\u001B[1;32m----> 7\u001B[0m \u001B[43mprint_x\u001B[49m\u001B[43m(\u001B[49m\u001B[43m)\u001B[49m\n\u001B[0;32m      8\u001B[0m \u001B[38;5;28;01mreturn\u001B[39;00m x\n",
      "Cell \u001B[1;32mIn[47], line 5\u001B[0m, in \u001B[0;36mnonlocal_test.<locals>.print_x\u001B[1;34m()\u001B[0m\n\u001B[0;32m      3\u001B[0m \u001B[38;5;28;01mdef\u001B[39;00m \u001B[38;5;21mprint_x\u001B[39m():\n\u001B[0;32m      4\u001B[0m     \u001B[38;5;66;03m# nonlocal x  # 如果注释掉nonlocal x这一行，则代码报错，因为print_x这个内部函数无法访问外部函数nonlocal_test的内部变量x\u001B[39;00m\n\u001B[1;32m----> 5\u001B[0m     \u001B[43mx\u001B[49m \u001B[38;5;241m+\u001B[39m\u001B[38;5;241m=\u001B[39m \u001B[38;5;241m1\u001B[39m\n\u001B[0;32m      6\u001B[0m     \u001B[38;5;28mprint\u001B[39m(x)\n",
      "\u001B[1;31mUnboundLocalError\u001B[0m: cannot access local variable 'x' where it is not associated with a value"
     ]
    }
   ],
   "source": [
    "def nonlocal_test():\n",
    "    x = 100\n",
    "\n",
    "    def print_x():\n",
    "        # nonlocal x  # 如果注释掉nonlocal x这一行，则代码报错，因为print_x这个内部函数无法访问外部函数nonlocal_test的内部变量x\n",
    "        x += 1\n",
    "        print(x)\n",
    "\n",
    "    print_x()\n",
    "    return x\n",
    "\n",
    "\n",
    "nonlocal_test()"
   ],
   "metadata": {
    "collapsed": false,
    "ExecuteTime": {
     "end_time": "2023-11-15T04:30:53.149072600Z",
     "start_time": "2023-11-15T04:30:53.126335700Z"
    }
   },
   "id": "ac8aabaa3ce19abb"
  },
  {
   "cell_type": "markdown",
   "source": [
    "# 判断语句 in is"
   ],
   "metadata": {
    "collapsed": false
   },
   "id": "5262d81a96f18fcf"
  },
  {
   "cell_type": "markdown",
   "source": [
    "- in：被包含\n",
    "- is：数据内存地址一致"
   ],
   "metadata": {
    "collapsed": false
   },
   "id": "21a15cff18e3a7cd"
  },
  {
   "cell_type": "code",
   "execution_count": 48,
   "outputs": [
    {
     "data": {
      "text/plain": "True"
     },
     "execution_count": 48,
     "metadata": {},
     "output_type": "execute_result"
    }
   ],
   "source": [
    "'123' in '123456'"
   ],
   "metadata": {
    "collapsed": false,
    "ExecuteTime": {
     "end_time": "2023-11-15T04:31:49.601040200Z",
     "start_time": "2023-11-15T04:31:49.572623100Z"
    }
   },
   "id": "fd5b228ed7f77e4a"
  },
  {
   "cell_type": "code",
   "execution_count": 49,
   "outputs": [
    {
     "data": {
      "text/plain": "True"
     },
     "execution_count": 49,
     "metadata": {},
     "output_type": "execute_result"
    }
   ],
   "source": [
    "'123' in ['123', '456']"
   ],
   "metadata": {
    "collapsed": false,
    "ExecuteTime": {
     "end_time": "2023-11-15T04:31:59.552961400Z",
     "start_time": "2023-11-15T04:31:59.523813800Z"
    }
   },
   "id": "4421f7a17e8ddd9a"
  },
  {
   "cell_type": "code",
   "execution_count": 50,
   "outputs": [
    {
     "name": "stderr",
     "output_type": "stream",
     "text": [
      "<>:1: SyntaxWarning: \"is\" with a literal. Did you mean \"==\"?\n",
      "<>:1: SyntaxWarning: \"is\" with a literal. Did you mean \"==\"?\n",
      "C:\\Users\\chenxilin\\AppData\\Local\\Temp\\ipykernel_10764\\477081944.py:1: SyntaxWarning: \"is\" with a literal. Did you mean \"==\"?\n",
      "  '123' is '123'\n"
     ]
    },
    {
     "data": {
      "text/plain": "True"
     },
     "execution_count": 50,
     "metadata": {},
     "output_type": "execute_result"
    }
   ],
   "source": [
    "'123' is '123'"
   ],
   "metadata": {
    "collapsed": false,
    "ExecuteTime": {
     "end_time": "2023-11-15T04:32:09.477179500Z",
     "start_time": "2023-11-15T04:32:09.444996100Z"
    }
   },
   "id": "5d7a88e820b45ee9"
  },
  {
   "cell_type": "code",
   "execution_count": 54,
   "outputs": [
    {
     "data": {
      "text/plain": "False"
     },
     "execution_count": 54,
     "metadata": {},
     "output_type": "execute_result"
    }
   ],
   "source": [
    "['123', '456'] is ['123', '456']"
   ],
   "metadata": {
    "collapsed": false,
    "ExecuteTime": {
     "end_time": "2023-11-15T04:33:18.342582500Z",
     "start_time": "2023-11-15T04:33:18.331914200Z"
    }
   },
   "id": "16a6c99436db0b98"
  },
  {
   "cell_type": "code",
   "execution_count": 90,
   "outputs": [
    {
     "name": "stderr",
     "output_type": "stream",
     "text": [
      "<>:1: SyntaxWarning: \"is\" with a literal. Did you mean \"==\"?\n",
      "<>:1: SyntaxWarning: \"is\" with a literal. Did you mean \"==\"?\n",
      "C:\\Users\\chenxilin\\AppData\\Local\\Temp\\ipykernel_10764\\3235354416.py:1: SyntaxWarning: \"is\" with a literal. Did you mean \"==\"?\n",
      "  ('123', '456') is ('123', '456')\n"
     ]
    },
    {
     "data": {
      "text/plain": "True"
     },
     "execution_count": 90,
     "metadata": {},
     "output_type": "execute_result"
    }
   ],
   "source": [
    "('123', '456') is ('123', '456')"
   ],
   "metadata": {
    "collapsed": false,
    "ExecuteTime": {
     "end_time": "2023-11-15T04:36:39.822166400Z",
     "start_time": "2023-11-15T04:36:39.799050600Z"
    }
   },
   "id": "5d3dc9d9fe329a47"
  },
  {
   "cell_type": "code",
   "execution_count": 56,
   "outputs": [
    {
     "data": {
      "text/plain": "False"
     },
     "execution_count": 56,
     "metadata": {},
     "output_type": "execute_result"
    }
   ],
   "source": [
    "(['123'], '456') is (['123'], '456')"
   ],
   "metadata": {
    "collapsed": false,
    "ExecuteTime": {
     "end_time": "2023-11-15T04:34:20.168117300Z",
     "start_time": "2023-11-15T04:34:20.147984500Z"
    }
   },
   "id": "5795f9c1bf1885cd"
  },
  {
   "cell_type": "markdown",
   "source": [
    "# 空值 None"
   ],
   "metadata": {
    "collapsed": false
   },
   "id": "3c68f4f7a50c784c"
  },
  {
   "cell_type": "markdown",
   "source": [
    "None 定义一个空值（根本没有值），与0，False或空字符串不同。 None是其自身的数据类型（NoneType）"
   ],
   "metadata": {
    "collapsed": false
   },
   "id": "f0bdfc07585cdea9"
  },
  {
   "cell_type": "code",
   "execution_count": 91,
   "outputs": [
    {
     "name": "stdout",
     "output_type": "stream",
     "text": [
      "None\n"
     ]
    }
   ],
   "source": [
    "x = None\n",
    "print(x)"
   ],
   "metadata": {
    "collapsed": false,
    "ExecuteTime": {
     "end_time": "2023-11-15T05:56:10.959152Z",
     "start_time": "2023-11-15T05:56:10.945410700Z"
    }
   },
   "id": "81dcde8545b85dae"
  },
  {
   "cell_type": "code",
   "execution_count": 92,
   "outputs": [
    {
     "data": {
      "text/plain": "NoneType"
     },
     "execution_count": 92,
     "metadata": {},
     "output_type": "execute_result"
    }
   ],
   "source": [
    "type(x)"
   ],
   "metadata": {
    "collapsed": false,
    "ExecuteTime": {
     "end_time": "2023-11-15T05:56:15.990598700Z",
     "start_time": "2023-11-15T05:56:15.953474300Z"
    }
   },
   "id": "efdb726622e72e24"
  },
  {
   "cell_type": "code",
   "execution_count": 94,
   "outputs": [
    {
     "name": "stdout",
     "output_type": "stream",
     "text": [
      "123\n",
      "None\n"
     ]
    }
   ],
   "source": [
    "def print_any(a):  # 没有定义return语句的函数，其返回值为None\n",
    "    print(a)\n",
    "\n",
    "\n",
    "res = print_any('123')\n",
    "print(res)"
   ],
   "metadata": {
    "collapsed": false,
    "ExecuteTime": {
     "end_time": "2023-11-15T05:59:14.194940400Z",
     "start_time": "2023-11-15T05:59:14.191431900Z"
    }
   },
   "id": "6fa26c8de64833d8"
  },
  {
   "cell_type": "markdown",
   "source": [
    "# 测试代码 assert\n",
    "\n",
    "用于测试代码中的条件是否为True，如果为False，将引发AssertionError"
   ],
   "metadata": {
    "collapsed": false
   },
   "id": "789bfd67a4cda496"
  },
  {
   "cell_type": "code",
   "execution_count": 95,
   "outputs": [
    {
     "name": "stdout",
     "output_type": "stream",
     "text": [
      "测试成功\n",
      "\n",
      "测试失败，x正确值为10\n"
     ]
    }
   ],
   "source": [
    "x = 10\n",
    "try:\n",
    "    assert x == 10\n",
    "    print(f\"测试成功\")\n",
    "    assert x == 11\n",
    "except Exception as e:\n",
    "    print(e)\n",
    "    print(f\"测试失败，x正确值为{x}\")"
   ],
   "metadata": {
    "collapsed": false,
    "ExecuteTime": {
     "end_time": "2023-11-15T06:00:49.277812800Z",
     "start_time": "2023-11-15T06:00:49.245299500Z"
    }
   },
   "id": "783b04e517357d14"
  },
  {
   "cell_type": "markdown",
   "source": [
    "# 上下文管理器 with语句"
   ],
   "metadata": {
    "collapsed": false
   },
   "id": "4f3316c1328afc19"
  },
  {
   "cell_type": "code",
   "execution_count": 96,
   "outputs": [
    {
     "ename": "FileNotFoundError",
     "evalue": "[Errno 2] No such file or directory: 'foo.txt'",
     "output_type": "error",
     "traceback": [
      "\u001B[1;31m---------------------------------------------------------------------------\u001B[0m",
      "\u001B[1;31mFileNotFoundError\u001B[0m                         Traceback (most recent call last)",
      "Cell \u001B[1;32mIn[96], line 1\u001B[0m\n\u001B[1;32m----> 1\u001B[0m file \u001B[38;5;241m=\u001B[39m \u001B[38;5;28;43mopen\u001B[39;49m\u001B[43m(\u001B[49m\u001B[38;5;124;43m\"\u001B[39;49m\u001B[38;5;124;43mfoo.txt\u001B[39;49m\u001B[38;5;124;43m\"\u001B[39;49m\u001B[43m)\u001B[49m\n\u001B[0;32m      2\u001B[0m \u001B[38;5;28;01mtry\u001B[39;00m:\n\u001B[0;32m      3\u001B[0m     data \u001B[38;5;241m=\u001B[39m file\u001B[38;5;241m.\u001B[39mread()\n",
      "File \u001B[1;32m~\\.pyenv\\pyenv-win\\versions\\3.11.3\\Lib\\site-packages\\IPython\\core\\interactiveshell.py:284\u001B[0m, in \u001B[0;36m_modified_open\u001B[1;34m(file, *args, **kwargs)\u001B[0m\n\u001B[0;32m    277\u001B[0m \u001B[38;5;28;01mif\u001B[39;00m file \u001B[38;5;129;01min\u001B[39;00m {\u001B[38;5;241m0\u001B[39m, \u001B[38;5;241m1\u001B[39m, \u001B[38;5;241m2\u001B[39m}:\n\u001B[0;32m    278\u001B[0m     \u001B[38;5;28;01mraise\u001B[39;00m \u001B[38;5;167;01mValueError\u001B[39;00m(\n\u001B[0;32m    279\u001B[0m         \u001B[38;5;124mf\u001B[39m\u001B[38;5;124m\"\u001B[39m\u001B[38;5;124mIPython won\u001B[39m\u001B[38;5;124m'\u001B[39m\u001B[38;5;124mt let you open fd=\u001B[39m\u001B[38;5;132;01m{\u001B[39;00mfile\u001B[38;5;132;01m}\u001B[39;00m\u001B[38;5;124m by default \u001B[39m\u001B[38;5;124m\"\u001B[39m\n\u001B[0;32m    280\u001B[0m         \u001B[38;5;124m\"\u001B[39m\u001B[38;5;124mas it is likely to crash IPython. If you know what you are doing, \u001B[39m\u001B[38;5;124m\"\u001B[39m\n\u001B[0;32m    281\u001B[0m         \u001B[38;5;124m\"\u001B[39m\u001B[38;5;124myou can use builtins\u001B[39m\u001B[38;5;124m'\u001B[39m\u001B[38;5;124m open.\u001B[39m\u001B[38;5;124m\"\u001B[39m\n\u001B[0;32m    282\u001B[0m     )\n\u001B[1;32m--> 284\u001B[0m \u001B[38;5;28;01mreturn\u001B[39;00m \u001B[43mio_open\u001B[49m\u001B[43m(\u001B[49m\u001B[43mfile\u001B[49m\u001B[43m,\u001B[49m\u001B[43m \u001B[49m\u001B[38;5;241;43m*\u001B[39;49m\u001B[43margs\u001B[49m\u001B[43m,\u001B[49m\u001B[43m \u001B[49m\u001B[38;5;241;43m*\u001B[39;49m\u001B[38;5;241;43m*\u001B[39;49m\u001B[43mkwargs\u001B[49m\u001B[43m)\u001B[49m\n",
      "\u001B[1;31mFileNotFoundError\u001B[0m: [Errno 2] No such file or directory: 'foo.txt'"
     ]
    }
   ],
   "source": [
    "file = open(\"foo.txt\")\n",
    "try:\n",
    "    data = file.read()\n",
    "finally:\n",
    "    file.close()"
   ],
   "metadata": {
    "collapsed": false,
    "ExecuteTime": {
     "end_time": "2023-11-15T06:39:48.642633600Z",
     "start_time": "2023-11-15T06:39:48.582786500Z"
    }
   },
   "id": "3237d8dace758043"
  },
  {
   "cell_type": "code",
   "execution_count": 98,
   "outputs": [
    {
     "ename": "FileNotFoundError",
     "evalue": "[Errno 2] No such file or directory: 'foo.txt'",
     "output_type": "error",
     "traceback": [
      "\u001B[1;31m---------------------------------------------------------------------------\u001B[0m",
      "\u001B[1;31mFileNotFoundError\u001B[0m                         Traceback (most recent call last)",
      "Cell \u001B[1;32mIn[98], line 1\u001B[0m\n\u001B[1;32m----> 1\u001B[0m \u001B[38;5;28;01mwith\u001B[39;00m \u001B[38;5;28;43mopen\u001B[39;49m\u001B[43m(\u001B[49m\u001B[38;5;124;43m\"\u001B[39;49m\u001B[38;5;124;43mfoo.txt\u001B[39;49m\u001B[38;5;124;43m\"\u001B[39;49m\u001B[43m)\u001B[49m \u001B[38;5;28;01mas\u001B[39;00m file:  \u001B[38;5;66;03m# with版本的代码，实现上述同样功能\u001B[39;00m\n\u001B[0;32m      2\u001B[0m     data \u001B[38;5;241m=\u001B[39m file\u001B[38;5;241m.\u001B[39mread()\n",
      "File \u001B[1;32m~\\.pyenv\\pyenv-win\\versions\\3.11.3\\Lib\\site-packages\\IPython\\core\\interactiveshell.py:284\u001B[0m, in \u001B[0;36m_modified_open\u001B[1;34m(file, *args, **kwargs)\u001B[0m\n\u001B[0;32m    277\u001B[0m \u001B[38;5;28;01mif\u001B[39;00m file \u001B[38;5;129;01min\u001B[39;00m {\u001B[38;5;241m0\u001B[39m, \u001B[38;5;241m1\u001B[39m, \u001B[38;5;241m2\u001B[39m}:\n\u001B[0;32m    278\u001B[0m     \u001B[38;5;28;01mraise\u001B[39;00m \u001B[38;5;167;01mValueError\u001B[39;00m(\n\u001B[0;32m    279\u001B[0m         \u001B[38;5;124mf\u001B[39m\u001B[38;5;124m\"\u001B[39m\u001B[38;5;124mIPython won\u001B[39m\u001B[38;5;124m'\u001B[39m\u001B[38;5;124mt let you open fd=\u001B[39m\u001B[38;5;132;01m{\u001B[39;00mfile\u001B[38;5;132;01m}\u001B[39;00m\u001B[38;5;124m by default \u001B[39m\u001B[38;5;124m\"\u001B[39m\n\u001B[0;32m    280\u001B[0m         \u001B[38;5;124m\"\u001B[39m\u001B[38;5;124mas it is likely to crash IPython. If you know what you are doing, \u001B[39m\u001B[38;5;124m\"\u001B[39m\n\u001B[0;32m    281\u001B[0m         \u001B[38;5;124m\"\u001B[39m\u001B[38;5;124myou can use builtins\u001B[39m\u001B[38;5;124m'\u001B[39m\u001B[38;5;124m open.\u001B[39m\u001B[38;5;124m\"\u001B[39m\n\u001B[0;32m    282\u001B[0m     )\n\u001B[1;32m--> 284\u001B[0m \u001B[38;5;28;01mreturn\u001B[39;00m \u001B[43mio_open\u001B[49m\u001B[43m(\u001B[49m\u001B[43mfile\u001B[49m\u001B[43m,\u001B[49m\u001B[43m \u001B[49m\u001B[38;5;241;43m*\u001B[39;49m\u001B[43margs\u001B[49m\u001B[43m,\u001B[49m\u001B[43m \u001B[49m\u001B[38;5;241;43m*\u001B[39;49m\u001B[38;5;241;43m*\u001B[39;49m\u001B[43mkwargs\u001B[49m\u001B[43m)\u001B[49m\n",
      "\u001B[1;31mFileNotFoundError\u001B[0m: [Errno 2] No such file or directory: 'foo.txt'"
     ]
    }
   ],
   "source": [
    "with open(\"foo.txt\") as file:  # with版本的代码，实现上述同样功能\n",
    "    data = file.read()"
   ],
   "metadata": {
    "collapsed": false,
    "ExecuteTime": {
     "end_time": "2023-11-15T06:40:37.268925Z",
     "start_time": "2023-11-15T06:40:37.227017500Z"
    }
   },
   "id": "1716923e348db588"
  },
  {
   "cell_type": "markdown",
   "source": [
    "# 生成器 yield\n",
    "\n",
    "一种特殊的迭代器，可以一边循环一边调用next函数调用运算，以时间换空间，不必要将每个元素都事先存起来"
   ],
   "metadata": {
    "collapsed": false
   },
   "id": "c92524c30344e324"
  },
  {
   "cell_type": "code",
   "execution_count": 99,
   "outputs": [
    {
     "data": {
      "text/plain": "<generator object get_array at 0x000002023CFE85F0>"
     },
     "execution_count": 99,
     "metadata": {},
     "output_type": "execute_result"
    }
   ],
   "source": [
    "def get_array(n):\n",
    "    for i in range(n):\n",
    "        yield i ** 2\n",
    "\n",
    "\n",
    "array = get_array(10)\n",
    "array"
   ],
   "metadata": {
    "collapsed": false,
    "ExecuteTime": {
     "end_time": "2023-11-15T06:45:19.947635700Z",
     "start_time": "2023-11-15T06:45:19.902942700Z"
    }
   },
   "id": "66885d002ce16612"
  },
  {
   "cell_type": "markdown",
   "source": [
    "# 协程 async await"
   ],
   "metadata": {
    "collapsed": false
   },
   "id": "9cb10c26c0bc881b"
  },
  {
   "cell_type": "markdown",
   "source": [
    "假设有两个异步函数async a，async b，a中的某一步有await，当程序碰到关键字await b()后，异步程序挂起后去执行另一个异步b程序，就是从函数内部跳出去执行其他函数，当挂起条件消失后，不管b是否执行完，要马上从b程序中跳出来，回到原程序执行原来的操作。如果await后面跟的b函数不是异步函数，那么操作就只能等b执行完再返回，无法在b执行的过程中返回。如果要在b执行完才返回，也就不需要用await关键字了，直接调用b函数就行。所以这就需要await后面跟的是异步函数了。在一个异步函数中，可以不止一次挂起，也就是可以用多个await。"
   ],
   "metadata": {
    "collapsed": false
   },
   "id": "fb54113475a0f530"
  },
  {
   "cell_type": "markdown",
   "source": [
    "[协程示例](./协程示例.py)"
   ],
   "metadata": {
    "collapsed": false
   },
   "id": "3e4a28781565b5d4"
  }
 ],
 "metadata": {
  "kernelspec": {
   "display_name": "Python 3",
   "language": "python",
   "name": "python3"
  },
  "language_info": {
   "codemirror_mode": {
    "name": "ipython",
    "version": 2
   },
   "file_extension": ".py",
   "mimetype": "text/x-python",
   "name": "python",
   "nbconvert_exporter": "python",
   "pygments_lexer": "ipython2",
   "version": "2.7.6"
  }
 },
 "nbformat": 4,
 "nbformat_minor": 5
}
