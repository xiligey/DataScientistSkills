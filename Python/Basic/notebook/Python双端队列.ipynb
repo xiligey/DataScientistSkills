{
 "cells": [
  {
   "cell_type": "markdown",
   "source": [
    "Python中的双端队列（deque，全称double-ended queue）是由`collections`模块中的`deque`类提供支持的一种数据结构。\n",
    "\n",
    "双端队列支持从两端添加或移除元素，因此它非常适用于需要从两端进行操作的场合，例如队列和栈。"
   ],
   "metadata": {
    "collapsed": false
   },
   "id": "a98329d1c81775c9"
  },
  {
   "cell_type": "markdown",
   "source": [
    "### 创建双端队列\n",
    "\n",
    "你可以通过导入`collections`模块并创建`deque`对象来使用双端队列："
   ],
   "metadata": {
    "collapsed": false
   },
   "id": "cd72c75a1e5a81be"
  },
  {
   "cell_type": "code",
   "execution_count": 1,
   "id": "initial_id",
   "metadata": {
    "collapsed": true,
    "ExecuteTime": {
     "end_time": "2023-11-15T10:27:50.822378500Z",
     "start_time": "2023-11-15T10:27:50.819488Z"
    }
   },
   "outputs": [],
   "source": [
    "from collections import deque\n",
    "\n",
    "# 创建空的双端队列\n",
    "d = deque()\n",
    "\n",
    "# 创建带有初始元素的双端队列\n",
    "d = deque([1, 2, 3])\n"
   ]
  },
  {
   "cell_type": "markdown",
   "source": [
    "### 双端队列的操作\n",
    "\n",
    "双端队列提供了多种方法，让你能够在两端快速操作，包括添加和移除元素："
   ],
   "metadata": {
    "collapsed": false
   },
   "id": "23c1ac9fe2087510"
  },
  {
   "cell_type": "code",
   "execution_count": 2,
   "outputs": [],
   "source": [
    "from collections import deque\n",
    "\n",
    "d = deque([1, 2, 3])\n",
    "\n",
    "# 在右边添加元素\n",
    "d.append(4)       # deque变为[1, 2, 3, 4]\n",
    "\n",
    "# 在左边添加元素\n",
    "d.appendleft(0)   # deque变为[0, 1, 2, 3, 4]\n",
    "\n",
    "# 在右边移除元素\n",
    "d.pop()           # 返回4，deque变为[0, 1, 2, 3]\n",
    "\n",
    "# 在左边移除元素\n",
    "d.popleft()       # 返回0，deque变为[1, 2, 3]\n",
    "\n",
    "# 从任意一端扩展双端队列中的元素\n",
    "d.extend([4, 5])     # deque变为[1, 2, 3, 4, 5]\n",
    "d.extendleft([0, -1])# deque变为[-1, 0, 1, 2, 3, 4, 5]\n"
   ],
   "metadata": {
    "collapsed": false,
    "ExecuteTime": {
     "end_time": "2023-11-15T10:28:00.580263300Z",
     "start_time": "2023-11-15T10:28:00.571515500Z"
    }
   },
   "id": "fbfcfc9e4d12c0f1"
  },
  {
   "cell_type": "markdown",
   "source": [
    "双端队列也支持线程安全，且内存效率高，适合处理大量数据。\n",
    "\n",
    "由于`deque`是用双向链表实现的，所以在队列两端的操作都非常高效，复杂度大约为O(1)。"
   ],
   "metadata": {
    "collapsed": false
   },
   "id": "c5ab424a05e444b3"
  },
  {
   "cell_type": "markdown",
   "source": [
    "### 双端队列的其他功能\n",
    "\n",
    "除了基本的添加和移除操作，双端队列还提供了其他实用的功能："
   ],
   "metadata": {
    "collapsed": false
   },
   "id": "18ad0158822a80d1"
  },
  {
   "cell_type": "code",
   "execution_count": 3,
   "outputs": [
    {
     "name": "stdout",
     "output_type": "stream",
     "text": [
      "1\n"
     ]
    }
   ],
   "source": [
    "# 限制双端队列的长度\n",
    "d = deque(maxlen=3) # 创建一个最大长度为3的双端队列\n",
    "d.extend([1, 2, 3]) # deque为[1, 2, 3]\n",
    "d.append(4)         # deque自动丢弃最左边的元素，变为[2, 3, 4]\n",
    "\n",
    "# 旋转双端队列中的元素\n",
    "d.rotate(1)         # 右旋1步，deque变为[4, 2, 3]\n",
    "d.rotate(-1)        # 左旋1步，deque变为[2, 3, 4]\n",
    "\n",
    "# 计数\n",
    "print(d.count(2))   # 输出2的数量，结果为1\n",
    "\n",
    "# 清空双端队列\n",
    "d.clear()           # 清空deque，结果为[]\n"
   ],
   "metadata": {
    "collapsed": false,
    "ExecuteTime": {
     "end_time": "2023-11-15T10:28:18.498827300Z",
     "start_time": "2023-11-15T10:28:18.482911400Z"
    }
   },
   "id": "593cb1cdd261ec2e"
  },
  {
   "cell_type": "markdown",
   "source": [
    "### 双端队列与线程安全\n",
    "\n",
    "`deque`是线程安全的，可以在多线程程序中用作共享的数据结构，而不必担心数据损坏。但是，虽然单个操作（如`append`或`pop`）是原子的，组合操作（如检查长度后再弹出元素）可能仍然需要外部的同步控制。\n"
   ],
   "metadata": {
    "collapsed": false
   },
   "id": "25ab5cabad56fff3"
  },
  {
   "cell_type": "markdown",
   "source": [
    "\n",
    "### 总结\n",
    "\n",
    "Python的`deque`是一个非常通用的数据结构，适用于多种场景，特别是当你需要快速地在数据的任一端添加或移除元素时。由于其灵活性和高效性，`deque`在Python中被广泛使用，例如在实现队列、栈、移动窗口等数据结构或算法中。"
   ],
   "metadata": {
    "collapsed": false
   },
   "id": "e868c4aa8354da6b"
  },
  {
   "cell_type": "code",
   "execution_count": null,
   "outputs": [],
   "source": [],
   "metadata": {
    "collapsed": false
   },
   "id": "efaa74d3a319a79"
  }
 ],
 "metadata": {
  "kernelspec": {
   "display_name": "Python 3",
   "language": "python",
   "name": "python3"
  },
  "language_info": {
   "codemirror_mode": {
    "name": "ipython",
    "version": 2
   },
   "file_extension": ".py",
   "mimetype": "text/x-python",
   "name": "python",
   "nbconvert_exporter": "python",
   "pygments_lexer": "ipython2",
   "version": "2.7.6"
  }
 },
 "nbformat": 4,
 "nbformat_minor": 5
}
