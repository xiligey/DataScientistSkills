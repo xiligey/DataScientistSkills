{
 "cells": [
  {
   "cell_type": "markdown",
   "source": [
    "mapping 对象会将 hashable 值映射到任意对象。 映射属于可变对象。 目前仅有一种标准映射类型 字典。\n",
    "\n",
    "字典的键 几乎 可以为任何值。 不是 hashable 的值，即包含列表、字典或其他可变类型（按值比较而非按对象标识比较）的值不可被用作键\n",
    "\n",
    "比较结果相等的值（如 1, 1.0 和 True 等）可被互换使用以索引同一个字典条目。"
   ],
   "metadata": {
    "collapsed": false
   },
   "id": "6754dfd345c12ba0"
  },
  {
   "cell_type": "markdown",
   "source": [
    "字典可用多种方式来创建:\n",
    "\n",
    "使用花括号内以逗号分隔 键: 值 对的方式: {'jack': 4098, 'sjoerd': 4127} or {4098: 'jack', 4127: 'sjoerd'}\n",
    "\n",
    "使用字典推导式: {}, {x: x ** 2 for x in range(10)}\n",
    "\n",
    "使用类型构造器: dict(), dict([('foo', 100), ('bar', 200)]), dict(foo=100, bar=200)"
   ],
   "metadata": {
    "collapsed": false
   },
   "id": "52c91f04c9cddf9e"
  },
  {
   "cell_type": "code",
   "execution_count": 1,
   "id": "initial_id",
   "metadata": {
    "collapsed": true,
    "ExecuteTime": {
     "end_time": "2023-11-15T10:20:58.177619500Z",
     "start_time": "2023-11-15T10:20:58.166620700Z"
    }
   },
   "outputs": [
    {
     "data": {
      "text/plain": "True"
     },
     "execution_count": 1,
     "metadata": {},
     "output_type": "execute_result"
    }
   ],
   "source": [
    "a = dict(one=1, two=2, three=3)\n",
    "b = {'one': 1, 'two': 2, 'three': 3}\n",
    "c = dict(zip(['one', 'two', 'three'], [1, 2, 3]))\n",
    "d = dict([('two', 2), ('one', 1), ('three', 3)])\n",
    "e = dict({'three': 3, 'one': 1, 'two': 2})\n",
    "f = dict({'one': 1, 'three': 3}, two=2)\n",
    "a == b == c == d == e == f"
   ]
  },
  {
   "cell_type": "code",
   "execution_count": 2,
   "outputs": [
    {
     "name": "stdout",
     "output_type": "stream",
     "text": [
      "{'name': 'Jack', 'age': 18}\n",
      "{'name': 'Jack', 'age': 18}\n",
      "{1: 2, 3: 4, 5: 6}\n",
      "2\n",
      "2\n",
      "dict_keys([1, 3, 5])\n",
      "dict_values([2, 4, 6])\n",
      "dict_items([(1, 2), (3, 4), (5, 6)])\n",
      "{0: 0, 1: 1, 2: 4, 3: 9, 4: 16, 5: 25, 6: 36, 7: 49, 8: 64, 9: 81}\n"
     ]
    }
   ],
   "source": [
    "# 创建字典\n",
    "d1 = {\"name\": \"Jack\", \"age\": 18}\n",
    "print(d1)\n",
    "\n",
    "# 创建字典2\n",
    "d2 = dict(name=\"Jack\", age=18)\n",
    "print(d2)\n",
    "\n",
    "# 创建字典3\n",
    "d3 = dict([[1, 2], [3, 4], [5, 6]])\n",
    "print(d3)\n",
    "\n",
    "# 字典索引1\n",
    "print(d3.get(1))\n",
    "\n",
    "# 字典索引2\n",
    "print(d3[1])\n",
    "\n",
    "# 获取字典所有的key\n",
    "print(d3.keys())\n",
    "\n",
    "# 获取字典所有的value\n",
    "print(d3.values())\n",
    "\n",
    "# 获取字典所有的key和value\n",
    "print(d3.items())\n",
    "\n",
    "# 字典推导式\n",
    "print({i:i**2 for i in range(10)})\n"
   ],
   "metadata": {
    "collapsed": false,
    "ExecuteTime": {
     "end_time": "2023-11-15T10:21:13.279564700Z",
     "start_time": "2023-11-15T10:21:13.260612Z"
    }
   },
   "id": "96333ba3d52aa494"
  },
  {
   "cell_type": "code",
   "execution_count": null,
   "outputs": [],
   "source": [],
   "metadata": {
    "collapsed": false
   },
   "id": "b2989693cbb85cb6"
  }
 ],
 "metadata": {
  "kernelspec": {
   "display_name": "Python 3",
   "language": "python",
   "name": "python3"
  },
  "language_info": {
   "codemirror_mode": {
    "name": "ipython",
    "version": 2
   },
   "file_extension": ".py",
   "mimetype": "text/x-python",
   "name": "python",
   "nbconvert_exporter": "python",
   "pygments_lexer": "ipython2",
   "version": "2.7.6"
  }
 },
 "nbformat": 4,
 "nbformat_minor": 5
}
