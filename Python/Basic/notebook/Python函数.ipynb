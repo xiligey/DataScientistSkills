{
 "cells": [
  {
   "cell_type": "markdown",
   "source": [
    "# 最简单的函数"
   ],
   "metadata": {
    "collapsed": false
   },
   "id": "43f2fb1fd4dae885"
  },
  {
   "cell_type": "code",
   "execution_count": 8,
   "id": "initial_id",
   "metadata": {
    "collapsed": true,
    "ExecuteTime": {
     "end_time": "2023-11-16T03:04:43.594553100Z",
     "start_time": "2023-11-16T03:04:43.565448600Z"
    }
   },
   "outputs": [
    {
     "name": "stdout",
     "output_type": "stream",
     "text": [
      "Hello World\n",
      "None\n"
     ]
    }
   ],
   "source": [
    "def hello():\n",
    "    print('Hello World')\n",
    "\n",
    "\n",
    "r1 = hello()\n",
    "print(r1)  # None"
   ]
  },
  {
   "cell_type": "markdown",
   "source": [
    "# 有返回值的函数"
   ],
   "metadata": {
    "collapsed": false
   },
   "id": "283665f5dc66f8c8"
  },
  {
   "cell_type": "code",
   "execution_count": 9,
   "outputs": [
    {
     "data": {
      "text/plain": "'China'"
     },
     "execution_count": 9,
     "metadata": {},
     "output_type": "execute_result"
    }
   ],
   "source": [
    "def get_country():\n",
    "    return 'China'\n",
    "\n",
    "\n",
    "r2 = get_country()\n",
    "r2"
   ],
   "metadata": {
    "collapsed": false,
    "ExecuteTime": {
     "end_time": "2023-11-16T03:04:43.595552500Z",
     "start_time": "2023-11-16T03:04:43.572760500Z"
    }
   },
   "id": "baf1188d8ddd42a9"
  },
  {
   "cell_type": "markdown",
   "source": [
    "# 有参数的函数"
   ],
   "metadata": {
    "collapsed": false
   },
   "id": "386acb0e3b347643"
  },
  {
   "cell_type": "code",
   "execution_count": 10,
   "outputs": [
    {
     "data": {
      "text/plain": "4"
     },
     "execution_count": 10,
     "metadata": {},
     "output_type": "execute_result"
    }
   ],
   "source": [
    "def add_one(number):\n",
    "    return number + 1\n",
    "\n",
    "\n",
    "r3 = add_one(3)\n",
    "r3"
   ],
   "metadata": {
    "collapsed": false,
    "ExecuteTime": {
     "end_time": "2023-11-16T03:04:43.651557Z",
     "start_time": "2023-11-16T03:04:43.583279300Z"
    }
   },
   "id": "96b2b9f9b1253e5"
  },
  {
   "cell_type": "markdown",
   "source": [
    "# 有默认参数的函数"
   ],
   "metadata": {
    "collapsed": false
   },
   "id": "b8372566206e9ba2"
  },
  {
   "cell_type": "code",
   "execution_count": 11,
   "outputs": [],
   "source": [
    "def func4(name=\"world\"):\n",
    "    print(f\"Hello, {name}!\")"
   ],
   "metadata": {
    "collapsed": false,
    "ExecuteTime": {
     "end_time": "2023-11-16T03:05:28.324869500Z",
     "start_time": "2023-11-16T03:05:28.314510800Z"
    }
   },
   "id": "6e784091c7640ea0"
  },
  {
   "cell_type": "code",
   "execution_count": 12,
   "outputs": [
    {
     "name": "stdout",
     "output_type": "stream",
     "text": [
      "Hello, world!\n"
     ]
    }
   ],
   "source": [
    "func4()"
   ],
   "metadata": {
    "collapsed": false,
    "ExecuteTime": {
     "end_time": "2023-11-16T03:05:29.599890800Z",
     "start_time": "2023-11-16T03:05:29.589584900Z"
    }
   },
   "id": "a9ff09e55da4d9ed"
  },
  {
   "cell_type": "code",
   "execution_count": 13,
   "outputs": [
    {
     "name": "stdout",
     "output_type": "stream",
     "text": [
      "Hello, Jack!\n"
     ]
    }
   ],
   "source": [
    "func4('Jack')"
   ],
   "metadata": {
    "collapsed": false,
    "ExecuteTime": {
     "end_time": "2023-11-16T03:05:33.196979500Z",
     "start_time": "2023-11-16T03:05:33.184468300Z"
    }
   },
   "id": "84afc647fe128bbd"
  },
  {
   "cell_type": "markdown",
   "source": [
    "# 函数作为参数"
   ],
   "metadata": {
    "collapsed": false
   },
   "id": "5d2908aaa7d86bcb"
  },
  {
   "cell_type": "code",
   "execution_count": 14,
   "outputs": [
    {
     "name": "stdout",
     "output_type": "stream",
     "text": [
      "25\n",
      "125\n"
     ]
    }
   ],
   "source": [
    "def apply(func, value):\n",
    "    return func(value)\n",
    "\n",
    "\n",
    "def square(x):\n",
    "    return x * x\n",
    "\n",
    "\n",
    "def cube(x):\n",
    "    return x * x * x\n",
    "\n",
    "\n",
    "result1 = apply(square, 5)\n",
    "result2 = apply(cube, 5)\n",
    "\n",
    "print(result1)  # 输出25\n",
    "print(result2)  # 输出125"
   ],
   "metadata": {
    "collapsed": false,
    "ExecuteTime": {
     "end_time": "2023-11-16T03:05:56.873789100Z",
     "start_time": "2023-11-16T03:05:56.862890600Z"
    }
   },
   "id": "ba300867f15e7112"
  },
  {
   "cell_type": "markdown",
   "source": [
    "# 有*args 的函数"
   ],
   "metadata": {
    "collapsed": false
   },
   "id": "6fb438086c8de651"
  },
  {
   "cell_type": "code",
   "execution_count": 16,
   "outputs": [
    {
     "name": "stdout",
     "output_type": "stream",
     "text": [
      "1\n",
      "2\n",
      "3\n",
      "4\n",
      "5\n"
     ]
    }
   ],
   "source": [
    "def func5(*args):\n",
    "    for arg in args:\n",
    "        print(arg)\n",
    "\n",
    "\n",
    "func5(*[1, 2, 3, 4, 5])"
   ],
   "metadata": {
    "collapsed": false,
    "ExecuteTime": {
     "end_time": "2023-11-16T03:06:26.037116300Z",
     "start_time": "2023-11-16T03:06:26.030457200Z"
    }
   },
   "id": "da47d4c6163b5070"
  },
  {
   "cell_type": "markdown",
   "source": [
    "# 有**kwargs的函数"
   ],
   "metadata": {
    "collapsed": false
   },
   "id": "6449507f1f6be429"
  },
  {
   "cell_type": "code",
   "execution_count": 17,
   "outputs": [
    {
     "name": "stdout",
     "output_type": "stream",
     "text": [
      "name: Tom\n",
      "age: 20\n",
      "city: Tokyo\n"
     ]
    }
   ],
   "source": [
    "def func6(**kwargs):\n",
    "    for key, value in kwargs.items():\n",
    "        print(f\"{key}: {value}\")\n",
    "\n",
    "\n",
    "func6(**{'name': 'Tom', 'age': 20, 'city': 'Tokyo'})"
   ],
   "metadata": {
    "collapsed": false,
    "ExecuteTime": {
     "end_time": "2023-11-16T03:07:47.152147400Z",
     "start_time": "2023-11-16T03:07:47.139662800Z"
    }
   },
   "id": "6d720073d245c7d1"
  },
  {
   "cell_type": "markdown",
   "source": [
    "# 递归函数"
   ],
   "metadata": {
    "collapsed": false
   },
   "id": "163eff1764c0d0ae"
  },
  {
   "cell_type": "code",
   "execution_count": 18,
   "outputs": [
    {
     "data": {
      "text/plain": "3628800"
     },
     "execution_count": 18,
     "metadata": {},
     "output_type": "execute_result"
    }
   ],
   "source": [
    "def func7(n):\n",
    "    if n == 0:\n",
    "        return 1\n",
    "    else:\n",
    "        return n * func7(n - 1)\n",
    "\n",
    "\n",
    "func7(10)"
   ],
   "metadata": {
    "collapsed": false,
    "ExecuteTime": {
     "end_time": "2023-11-16T03:08:15.489903700Z",
     "start_time": "2023-11-16T03:08:15.443688100Z"
    }
   },
   "id": "fa116fa7a3974a3c"
  },
  {
   "cell_type": "markdown",
   "source": [
    "# 返回函数的函数"
   ],
   "metadata": {
    "collapsed": false
   },
   "id": "383466403d3a6a27"
  },
  {
   "cell_type": "code",
   "execution_count": 21,
   "outputs": [],
   "source": [
    "def func8():\n",
    "    def inner():\n",
    "        print(\"Hello, world!\")\n",
    "\n",
    "    return inner"
   ],
   "metadata": {
    "collapsed": false,
    "ExecuteTime": {
     "end_time": "2023-11-16T03:08:55.603443500Z",
     "start_time": "2023-11-16T03:08:55.593483700Z"
    }
   },
   "id": "ce00149647cda7fd"
  },
  {
   "cell_type": "code",
   "execution_count": 22,
   "outputs": [
    {
     "data": {
      "text/plain": "<function __main__.func8.<locals>.inner()>"
     },
     "execution_count": 22,
     "metadata": {},
     "output_type": "execute_result"
    }
   ],
   "source": [
    "func8()"
   ],
   "metadata": {
    "collapsed": false,
    "ExecuteTime": {
     "end_time": "2023-11-16T03:08:57.485764800Z",
     "start_time": "2023-11-16T03:08:57.476750600Z"
    }
   },
   "id": "4d088a8c3b2be9f8"
  },
  {
   "cell_type": "code",
   "execution_count": 23,
   "outputs": [
    {
     "name": "stdout",
     "output_type": "stream",
     "text": [
      "Hello, world!\n"
     ]
    }
   ],
   "source": [
    "func8()()"
   ],
   "metadata": {
    "collapsed": false,
    "ExecuteTime": {
     "end_time": "2023-11-16T03:08:59.057581600Z",
     "start_time": "2023-11-16T03:08:59.042593800Z"
    }
   },
   "id": "19b5f4e32bef1bf9"
  },
  {
   "cell_type": "markdown",
   "source": [
    "# 匿名函数"
   ],
   "metadata": {
    "collapsed": false
   },
   "id": "4d424ea1489f7dc3"
  },
  {
   "cell_type": "code",
   "execution_count": 24,
   "outputs": [],
   "source": [
    "func9 = lambda x, y: x + y"
   ],
   "metadata": {
    "collapsed": false,
    "ExecuteTime": {
     "end_time": "2023-11-16T03:09:16.018623400Z",
     "start_time": "2023-11-16T03:09:15.996114800Z"
    }
   },
   "id": "906ae306576d9e2b"
  },
  {
   "cell_type": "code",
   "execution_count": 25,
   "outputs": [
    {
     "data": {
      "text/plain": "3"
     },
     "execution_count": 25,
     "metadata": {},
     "output_type": "execute_result"
    }
   ],
   "source": [
    "func9(1, 2)"
   ],
   "metadata": {
    "collapsed": false,
    "ExecuteTime": {
     "end_time": "2023-11-16T03:09:19.516158700Z",
     "start_time": "2023-11-16T03:09:19.502312200Z"
    }
   },
   "id": "2a2668de0a3b7f6b"
  },
  {
   "cell_type": "code",
   "execution_count": 26,
   "outputs": [
    {
     "data": {
      "text/plain": "[0, 0, 0]"
     },
     "execution_count": 26,
     "metadata": {},
     "output_type": "execute_result"
    }
   ],
   "source": [
    "list(map(func9, [1, 2, 3], [-1, -2, -3]))"
   ],
   "metadata": {
    "collapsed": false,
    "ExecuteTime": {
     "end_time": "2023-11-16T03:09:37.583311Z",
     "start_time": "2023-11-16T03:09:37.559158100Z"
    }
   },
   "id": "13548e5f7d5514df"
  },
  {
   "cell_type": "markdown",
   "source": [
    "# 方法：普通方法、静态方法、类方法、类属性方法"
   ],
   "metadata": {
    "collapsed": false
   },
   "id": "1a1e2b2e9c912e20"
  },
  {
   "cell_type": "code",
   "execution_count": 34,
   "outputs": [],
   "source": [
    "class MyClass:\n",
    "    minimal_age = 1\n",
    "\n",
    "    def __init__(self, age):\n",
    "        self.age = age\n",
    "\n",
    "    # 普通方法\n",
    "    def print_age(self):\n",
    "        print(self.age)\n",
    "\n",
    "    # 静态方法\n",
    "    @staticmethod\n",
    "    def say_hello():\n",
    "        print('Hello')\n",
    "\n",
    "    # 类方法\n",
    "    @classmethod\n",
    "    def print_minimal_age(cls):\n",
    "        print(cls.minimal_age)\n",
    "\n",
    "    # 类属性方法\n",
    "    @property\n",
    "    def property_method(self):\n",
    "        print(\"This is a property method.\")\n",
    "        return \"property\""
   ],
   "metadata": {
    "collapsed": false,
    "ExecuteTime": {
     "end_time": "2023-11-16T03:17:10.641150400Z",
     "start_time": "2023-11-16T03:17:10.633802700Z"
    }
   },
   "id": "60136c03290eb669"
  },
  {
   "cell_type": "code",
   "execution_count": 38,
   "outputs": [
    {
     "name": "stdout",
     "output_type": "stream",
     "text": [
      "12\n"
     ]
    }
   ],
   "source": [
    "c = MyClass(12)\n",
    "\n",
    "# 调用普通方法\n",
    "c.print_age()"
   ],
   "metadata": {
    "collapsed": false,
    "ExecuteTime": {
     "end_time": "2023-11-16T03:17:52.534737400Z",
     "start_time": "2023-11-16T03:17:52.530116800Z"
    }
   },
   "id": "2f58e536fbb8236"
  },
  {
   "cell_type": "code",
   "execution_count": 30,
   "outputs": [
    {
     "name": "stdout",
     "output_type": "stream",
     "text": [
      "Hello\n"
     ]
    }
   ],
   "source": [
    "# 调用静态方法\n",
    "MyClass.say_hello()  # c.say_hello()也可以"
   ],
   "metadata": {
    "collapsed": false,
    "ExecuteTime": {
     "end_time": "2023-11-16T03:13:26.582572500Z",
     "start_time": "2023-11-16T03:13:26.566648800Z"
    }
   },
   "id": "d5155082a57e3394"
  },
  {
   "cell_type": "code",
   "execution_count": 31,
   "outputs": [
    {
     "name": "stdout",
     "output_type": "stream",
     "text": [
      "1\n"
     ]
    }
   ],
   "source": [
    "# 调用类方法\n",
    "MyClass.print_minimal_age()  # c.print_minimal_age()"
   ],
   "metadata": {
    "collapsed": false,
    "ExecuteTime": {
     "end_time": "2023-11-16T03:13:42.246880500Z",
     "start_time": "2023-11-16T03:13:42.221082900Z"
    }
   },
   "id": "767810b1b9a03e6a"
  },
  {
   "cell_type": "code",
   "execution_count": 39,
   "outputs": [
    {
     "name": "stdout",
     "output_type": "stream",
     "text": [
      "This is a property method.\n"
     ]
    },
    {
     "data": {
      "text/plain": "'property'"
     },
     "execution_count": 39,
     "metadata": {},
     "output_type": "execute_result"
    }
   ],
   "source": [
    "# 调用类属性方法\n",
    "c.property_method"
   ],
   "metadata": {
    "collapsed": false,
    "ExecuteTime": {
     "end_time": "2023-11-16T03:17:56.781770500Z",
     "start_time": "2023-11-16T03:17:56.772537500Z"
    }
   },
   "id": "1686ee0b86585eaf"
  },
  {
   "cell_type": "markdown",
   "source": [
    "- 普通方法必须通过实例化后的对象来调用\n",
    "\n",
    "- 静态方法可以通过类直接调用，也可以通过实例化后的对象来调用。该方法不需要访问类/对象的属性\n",
    "\n",
    "- 类方法可以通过类直接调用，也可以通过实例化后的对象来调用。该方法需要访问类的属性\n",
    "\n",
    "- 类属性方法要通过实例化后的对象来调用，可以直接当成一个属性来访问，不需要()"
   ],
   "metadata": {
    "collapsed": false
   },
   "id": "6532933c0ba6b445"
  },
  {
   "cell_type": "markdown",
   "source": [
    "# [装饰器](Python装饰器.ipynb)"
   ],
   "metadata": {
    "collapsed": false
   },
   "id": "7bad384d0756e80f"
  },
  {
   "cell_type": "markdown",
   "source": [],
   "metadata": {
    "collapsed": false
   },
   "id": "23765fd1ca88e297"
  },
  {
   "cell_type": "code",
   "execution_count": null,
   "outputs": [],
   "source": [],
   "metadata": {
    "collapsed": false
   },
   "id": "8387484eaf27558d"
  }
 ],
 "metadata": {
  "kernelspec": {
   "display_name": "Python 3",
   "language": "python",
   "name": "python3"
  },
  "language_info": {
   "codemirror_mode": {
    "name": "ipython",
    "version": 2
   },
   "file_extension": ".py",
   "mimetype": "text/x-python",
   "name": "python",
   "nbconvert_exporter": "python",
   "pygments_lexer": "ipython2",
   "version": "2.7.6"
  }
 },
 "nbformat": 4,
 "nbformat_minor": 5
}
