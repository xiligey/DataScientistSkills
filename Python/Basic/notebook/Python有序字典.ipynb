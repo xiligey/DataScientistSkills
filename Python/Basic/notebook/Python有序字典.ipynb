{
 "cells": [
  {
   "cell_type": "markdown",
   "source": [
    "Python的有序字典（OrderedDict）是collections模块中的一个子类，它记住了字典对象中元素的添加顺序。\n",
    "\n",
    "自Python 3.7起，所有的普通字典也是有序的，但OrderedDict在此基础上还提供了一些专有的方法。\n",
    "\n",
    "在Python 3.7之前，普通字典是无序的，因此OrderedDict在那时候是非常有用的，特别是当对元素顺序有特殊要求时。\n",
    "\n",
    "下面是OrderedDict的一些特性和使用方法。"
   ],
   "metadata": {
    "collapsed": false
   },
   "id": "5b40e339ede3ec64"
  },
  {
   "cell_type": "markdown",
   "source": [
    "### 创建OrderedDict\n",
    "\n",
    "OrderedDict可以像普通字典一样创建，可以使用一对括号来创建一个空的OrderedDict，或者使用键值对来初始化："
   ],
   "metadata": {
    "collapsed": false
   },
   "id": "2f8bae7d5caaae85"
  },
  {
   "cell_type": "code",
   "execution_count": 1,
   "id": "initial_id",
   "metadata": {
    "collapsed": true,
    "ExecuteTime": {
     "end_time": "2023-11-15T12:33:37.697826100Z",
     "start_time": "2023-11-15T12:33:37.694339500Z"
    }
   },
   "outputs": [],
   "source": [
    "from collections import OrderedDict\n",
    "\n",
    "# 空的OrderedDict\n",
    "odict1 = OrderedDict()\n",
    "\n",
    "# 初始化带有键值对的OrderedDict\n",
    "odict2 = OrderedDict([('a', 1), ('b', 2), ('c', 3)])"
   ]
  },
  {
   "cell_type": "markdown",
   "source": [
    "### 保持顺序\n",
    "\n",
    "OrderedDict会根据添加键值对的先后顺序来排序。\n",
    "\n",
    "这意味着如果你对同一个OrderedDict对象添加键值对，那么它们将会按照添加的顺序来存储。"
   ],
   "metadata": {
    "collapsed": false
   },
   "id": "6c3a9cb8dcf7f421"
  },
  {
   "cell_type": "code",
   "execution_count": 2,
   "outputs": [
    {
     "name": "stdout",
     "output_type": "stream",
     "text": [
      "a 1\n",
      "b 2\n",
      "c 3\n",
      "d 4\n",
      "e 5\n"
     ]
    }
   ],
   "source": [
    "odict2['d'] = 4\n",
    "odict2['e'] = 5\n",
    "for key in odict2:\n",
    "    print(key, odict2[key])"
   ],
   "metadata": {
    "collapsed": false,
    "ExecuteTime": {
     "end_time": "2023-11-15T12:34:02.826346200Z",
     "start_time": "2023-11-15T12:34:02.814344200Z"
    }
   },
   "id": "7c1eea26b8196936"
  },
  {
   "cell_type": "markdown",
   "source": [
    "### 特殊方法\n",
    "\n",
    "OrderedDict提供了一些普通字典没有的方法。"
   ],
   "metadata": {
    "collapsed": false
   },
   "id": "1b0f392a9f0691fd"
  },
  {
   "cell_type": "markdown",
   "source": [
    "#### popitem(last=True)\n",
    "\n",
    "`popitem`方法用于移除字典中的一个键值对。默认情况下，它移除最后一个添加进去的键值对，但是如果设置`last=False`，它会移除第一个添加的键值对。"
   ],
   "metadata": {
    "collapsed": false
   },
   "id": "446753451e1c515f"
  },
  {
   "cell_type": "code",
   "execution_count": 3,
   "outputs": [
    {
     "data": {
      "text/plain": "('e', 5)"
     },
     "execution_count": 3,
     "metadata": {},
     "output_type": "execute_result"
    }
   ],
   "source": [
    "odict2.popitem()          # 移除并返回最后一个键值对 ('e', 5)"
   ],
   "metadata": {
    "collapsed": false,
    "ExecuteTime": {
     "end_time": "2023-11-15T12:34:42.952817500Z",
     "start_time": "2023-11-15T12:34:42.942461600Z"
    }
   },
   "id": "568281a7c21a9514"
  },
  {
   "cell_type": "code",
   "execution_count": 4,
   "outputs": [
    {
     "data": {
      "text/plain": "('a', 1)"
     },
     "execution_count": 4,
     "metadata": {},
     "output_type": "execute_result"
    }
   ],
   "source": [
    "odict2.popitem(last=False)  # 移除并返回第一个键值对 ('a', 1)"
   ],
   "metadata": {
    "collapsed": false,
    "ExecuteTime": {
     "end_time": "2023-11-15T12:34:44.323611100Z",
     "start_time": "2023-11-15T12:34:44.309354400Z"
    }
   },
   "id": "530c331e675ca915"
  },
  {
   "cell_type": "markdown",
   "source": [
    "#### move_to_end(key, last=True)\n",
    "\n",
    "`move_to_end`方法将某个键值对移动到有序字典的一端。如果`last`参数为True，则移动到末尾，否则移动到开头。"
   ],
   "metadata": {
    "collapsed": false
   },
   "id": "4b2b1ca7ae851a41"
  },
  {
   "cell_type": "code",
   "execution_count": 5,
   "outputs": [],
   "source": [
    "odict2.move_to_end('b')      # 将键为'b'的键值对移动到最后\n",
    "odict2.move_to_end('c', last=False)  # 将键为'c'的键值对移动到最前面"
   ],
   "metadata": {
    "collapsed": false,
    "ExecuteTime": {
     "end_time": "2023-11-15T12:35:04.501010900Z",
     "start_time": "2023-11-15T12:35:04.489046500Z"
    }
   },
   "id": "af4ea064f281fc44"
  },
  {
   "cell_type": "code",
   "execution_count": 6,
   "outputs": [
    {
     "data": {
      "text/plain": "OrderedDict([('c', 3), ('d', 4), ('b', 2)])"
     },
     "execution_count": 6,
     "metadata": {},
     "output_type": "execute_result"
    }
   ],
   "source": [
    "odict2"
   ],
   "metadata": {
    "collapsed": false,
    "ExecuteTime": {
     "end_time": "2023-11-15T12:35:07.905811300Z",
     "start_time": "2023-11-15T12:35:07.892060200Z"
    }
   },
   "id": "d76806b5644f1f9b"
  },
  {
   "cell_type": "markdown",
   "source": [
    "### 性能\n",
    "\n",
    "在Python 3.7之前，如果你需要一个记录了元素添加顺序的字典，那么OrderedDict是一个好选择。但自从普通字典变为有序以后，OrderedDict的使用就更多是出于上述它提供的一些特殊方法，或者是为了代码兼容性。\n",
    "\n",
    "尽管如此，普通字典的内存效率在Python 3.6及以后的版本中得到了改进，所以在处理大量数据时，普通字典可能比OrderedDict更加高效。"
   ],
   "metadata": {
    "collapsed": false
   },
   "id": "57f824f46d62ff98"
  },
  {
   "cell_type": "markdown",
   "source": [
    "### 小结\n",
    "\n",
    "使用OrderedDict可以确保元素的顺序，并利用它的特殊方法进行高效的顺序操作。\n",
    "\n",
    "但随着Python语言的发展，普通字典已经可以保持插入顺序，并且在大多数情况下更加高效，因此OrderedDict变得不那么常用。\n",
    "\n",
    "在编写新代码或者维护旧代码时，根据具体需求和Python版本选择使用普通字典还是OrderedDict。"
   ],
   "metadata": {
    "collapsed": false
   },
   "id": "6e33c27514e959e9"
  },
  {
   "cell_type": "code",
   "execution_count": null,
   "outputs": [],
   "source": [],
   "metadata": {
    "collapsed": false
   },
   "id": "cedc3882b5e121f2"
  }
 ],
 "metadata": {
  "kernelspec": {
   "display_name": "Python 3",
   "language": "python",
   "name": "python3"
  },
  "language_info": {
   "codemirror_mode": {
    "name": "ipython",
    "version": 2
   },
   "file_extension": ".py",
   "mimetype": "text/x-python",
   "name": "python",
   "nbconvert_exporter": "python",
   "pygments_lexer": "ipython2",
   "version": "2.7.6"
  }
 },
 "nbformat": 4,
 "nbformat_minor": 5
}
