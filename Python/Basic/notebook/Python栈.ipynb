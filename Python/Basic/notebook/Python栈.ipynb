{
 "cells": [
  {
   "cell_type": "markdown",
   "source": [
    "在Python中，栈是一种非常直观和强大的数据结构，可以使用Python内置的数据类型——列表（List）来实现。由于Python列表提供了在末尾添加和删除元素的操作，因此它们天生就支持栈的LIFO特性。\n",
    "\n",
    "Python列表的`append()`方法可以用来“压栈”（即在栈顶添加一个元素），而`pop()`方法默认从列表的末尾移除元素，从而用来“弹栈”（即移除栈顶元素）。如果需要查看栈顶元素而不移除它，可以直接访问列表的最后一个元素。\n",
    "\n",
    "以下是使用Python列表实现栈的一个基本示例："
   ],
   "metadata": {
    "collapsed": false
   },
   "id": "dfad34aa0450af0c"
  },
  {
   "cell_type": "code",
   "execution_count": 1,
   "id": "initial_id",
   "metadata": {
    "collapsed": true,
    "ExecuteTime": {
     "end_time": "2023-11-15T10:26:52.087128600Z",
     "start_time": "2023-11-15T10:26:52.068465400Z"
    }
   },
   "outputs": [
    {
     "name": "stdout",
     "output_type": "stream",
     "text": [
      "栈顶元素: 3\n",
      "弹栈元素: 3\n",
      "当前栈顶元素: 2\n",
      "当前栈的状态: [1, 2]\n",
      "栈是否为空: False\n"
     ]
    }
   ],
   "source": [
    "# 创建一个空栈\n",
    "stack = []\n",
    "\n",
    "# 压栈（添加元素）\n",
    "stack.append(1)\n",
    "stack.append(2)\n",
    "stack.append(3)\n",
    "\n",
    "# 查看栈顶元素（最后一个元素）\n",
    "top_element = stack[-1]\n",
    "print(\"栈顶元素:\", top_element)  # 输出 3\n",
    "\n",
    "# 弹栈（移除元素）\n",
    "top_element = stack.pop()\n",
    "print(\"弹栈元素:\", top_element)  # 输出 3\n",
    "\n",
    "# 再次查看栈顶元素\n",
    "top_element = stack[-1]\n",
    "print(\"当前栈顶元素:\", top_element)  # 输出 2\n",
    "\n",
    "# 查看栈的当前状态\n",
    "print(\"当前栈的状态:\", stack)  # 输出 [1, 2]\n",
    "\n",
    "# 检查栈是否为空\n",
    "is_empty = not stack\n",
    "print(\"栈是否为空:\", is_empty)  # 输出 False\n"
   ]
  },
  {
   "cell_type": "markdown",
   "source": [
    "虽然使用列表实现栈非常简单且高效，但是在某些情况下，你可能希望自定义一个栈类，封装相关操作，\n",
    "并提供一些额外的功能，比如大小限制，或者在元素压栈和弹栈时提供额外的逻辑处理。\n",
    "\n",
    "下面是一个简单的栈类实现："
   ],
   "metadata": {
    "collapsed": false
   },
   "id": "a6edb714ccffb4c1"
  },
  {
   "cell_type": "code",
   "execution_count": 2,
   "outputs": [
    {
     "name": "stdout",
     "output_type": "stream",
     "text": [
      "awesome\n",
      "is\n",
      "2\n"
     ]
    }
   ],
   "source": [
    "class Stack:\n",
    "    def __init__(self):\n",
    "        self.elements = []\n",
    "\n",
    "    def is_empty(self):\n",
    "        return not self.elements\n",
    "\n",
    "    def push(self, element):\n",
    "        self.elements.append(element)\n",
    "\n",
    "    def pop(self):\n",
    "        if self.is_empty():\n",
    "            raise IndexError(\"pop from an empty stack\")\n",
    "        return self.elements.pop()\n",
    "\n",
    "    def peek(self):\n",
    "        if self.is_empty():\n",
    "            raise IndexError(\"peek from an empty stack\")\n",
    "        return self.elements[-1]\n",
    "\n",
    "    def size(self):\n",
    "        return len(self.elements)\n",
    "\n",
    "# 使用自定义栈类\n",
    "my_stack = Stack()\n",
    "my_stack.push('Python')\n",
    "my_stack.push('is')\n",
    "my_stack.push('awesome')\n",
    "\n",
    "print(my_stack.pop())    # 输出 'awesome'\n",
    "print(my_stack.peek())   # 输出 'is'\n",
    "print(my_stack.size())   # 输出 2\n"
   ],
   "metadata": {
    "collapsed": false,
    "ExecuteTime": {
     "end_time": "2023-11-15T10:27:10.085441600Z",
     "start_time": "2023-11-15T10:27:10.078771900Z"
    }
   },
   "id": "63f07e0b8be8333"
  },
  {
   "cell_type": "markdown",
   "source": [
    "这个栈类提供了基本的操作，并通过方法调用来处理栈的操作，增加了代码的可读性和易用性。\n",
    "\n",
    "此外，还可以根据需要为栈添加更多功能，如迭代支持、复杂的元素查询等。"
   ],
   "metadata": {
    "collapsed": false
   },
   "id": "a75a3035b5870f1a"
  },
  {
   "cell_type": "code",
   "execution_count": null,
   "outputs": [],
   "source": [],
   "metadata": {
    "collapsed": false
   },
   "id": "9b0eb4e189544656"
  }
 ],
 "metadata": {
  "kernelspec": {
   "display_name": "Python 3",
   "language": "python",
   "name": "python3"
  },
  "language_info": {
   "codemirror_mode": {
    "name": "ipython",
    "version": 2
   },
   "file_extension": ".py",
   "mimetype": "text/x-python",
   "name": "python",
   "nbconvert_exporter": "python",
   "pygments_lexer": "ipython2",
   "version": "2.7.6"
  }
 },
 "nbformat": 4,
 "nbformat_minor": 5
}
