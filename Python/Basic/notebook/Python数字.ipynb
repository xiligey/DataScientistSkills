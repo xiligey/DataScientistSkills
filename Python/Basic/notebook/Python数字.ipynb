{
 "cells": [
  {
   "cell_type": "markdown",
   "source": [],
   "metadata": {
    "collapsed": false
   },
   "id": "d6198fc9d7954a36"
  },
  {
   "cell_type": "markdown",
   "source": [
    "Python中的数字类型有：\n",
    "- int\n",
    "- float\n",
    "- complex\n",
    "- bool"
   ],
   "metadata": {
    "collapsed": false
   },
   "id": "4c3f23bedb9b8c97"
  },
  {
   "cell_type": "markdown",
   "source": [
    "### 创建数字"
   ],
   "metadata": {
    "collapsed": false
   },
   "id": "89d940b7a9c667d4"
  },
  {
   "cell_type": "code",
   "execution_count": 1,
   "outputs": [
    {
     "name": "stdout",
     "output_type": "stream",
     "text": [
      "1 1.2 (1+2j) True\n",
      "<class 'int'> <class 'float'> <class 'complex'> <class 'bool'>\n"
     ]
    }
   ],
   "source": [
    "a = 1\n",
    "b = 1.2\n",
    "c = 1 + 2j\n",
    "d = True\n",
    "\n",
    "print(a, b, c, d)\n",
    "print(type(a), type(b), type(c), type(d))"
   ],
   "metadata": {
    "collapsed": false,
    "ExecuteTime": {
     "end_time": "2023-11-15T07:10:30.914159300Z",
     "start_time": "2023-11-15T07:10:30.901180500Z"
    }
   },
   "id": "6f0c6eb8d2656d8f"
  },
  {
   "cell_type": "markdown",
   "source": [
    "**也可以通过isinstance来判断其类型：**"
   ],
   "metadata": {
    "collapsed": false
   },
   "id": "e2e3e5e3be731cd1"
  },
  {
   "cell_type": "code",
   "execution_count": 2,
   "outputs": [
    {
     "data": {
      "text/plain": "(True, True, True, True)"
     },
     "execution_count": 2,
     "metadata": {},
     "output_type": "execute_result"
    }
   ],
   "source": [
    "isinstance(a, int), isinstance(b, float), isinstance(c, complex), isinstance(d, bool)"
   ],
   "metadata": {
    "collapsed": false,
    "ExecuteTime": {
     "end_time": "2023-11-15T07:10:55.360984500Z",
     "start_time": "2023-11-15T07:10:55.350518100Z"
    }
   },
   "id": "2513c6431318b8c6"
  },
  {
   "cell_type": "markdown",
   "source": [
    "**Q1：type和isinstance都可以用来判断类别，二者的区别是什么？**\n",
    "\n",
    "答案在文件尾。后续所有思考题答案均在文件尾。\n"
   ],
   "metadata": {
    "collapsed": false
   },
   "id": "6ed0832998e3e069"
  },
  {
   "cell_type": "markdown",
   "source": [
    "### 数字计算"
   ],
   "metadata": {
    "collapsed": false
   },
   "id": "10a7b22d94520712"
  },
  {
   "cell_type": "code",
   "execution_count": 3,
   "outputs": [
    {
     "name": "stdout",
     "output_type": "stream",
     "text": [
      "2 <class 'int'>\n",
      "2.1 <class 'float'>\n",
      "-0.10000000000000009 <class 'float'>\n",
      "1.1 <class 'float'>\n",
      "0.9090909090909091 <class 'float'>\n"
     ]
    }
   ],
   "source": [
    "print(1+1, type(1+1))  # 加法 int + int = int\n",
    "print(1+1.1, type(1+1.1))  # 加法 int + float = float\n",
    "print(1-1.1, type(1-1.1))  # 减法 int - float = float\n",
    "print(1*1.1, type(1*1.1))  # 乘法 int * float = float\n",
    "print(1/1.1, type(1/1.1))  # 除法 int / float = float"
   ],
   "metadata": {
    "collapsed": false,
    "ExecuteTime": {
     "end_time": "2023-11-15T07:16:09.208471400Z",
     "start_time": "2023-11-15T07:16:09.198927400Z"
    }
   },
   "id": "e77e33218937c01a"
  },
  {
   "cell_type": "code",
   "execution_count": 4,
   "outputs": [
    {
     "ename": "ZeroDivisionError",
     "evalue": "division by zero",
     "output_type": "error",
     "traceback": [
      "\u001B[1;31m---------------------------------------------------------------------------\u001B[0m",
      "\u001B[1;31mZeroDivisionError\u001B[0m                         Traceback (most recent call last)",
      "Cell \u001B[1;32mIn[4], line 1\u001B[0m\n\u001B[1;32m----> 1\u001B[0m \u001B[38;5;241;43m1\u001B[39;49m\u001B[43m \u001B[49m\u001B[38;5;241;43m/\u001B[39;49m\u001B[43m \u001B[49m\u001B[38;5;241;43m0\u001B[39;49m  \u001B[38;5;66;03m# 除以0会引发ZeroDivisionError异常\u001B[39;00m\n",
      "\u001B[1;31mZeroDivisionError\u001B[0m: division by zero"
     ]
    }
   ],
   "source": [
    "1 / 0  # 除以0会引发ZeroDivisionError异常"
   ],
   "metadata": {
    "collapsed": false,
    "ExecuteTime": {
     "end_time": "2023-11-15T07:16:35.939510400Z",
     "start_time": "2023-11-15T07:16:35.665133900Z"
    }
   },
   "id": "794cdeee18c3ce6f"
  },
  {
   "cell_type": "code",
   "execution_count": 5,
   "outputs": [
    {
     "name": "stdout",
     "output_type": "stream",
     "text": [
      "2\n",
      "25\n",
      "(2+0j) 4j (5+0j) (-0.6+0.8j) (-3+4j)\n"
     ]
    }
   ],
   "source": [
    "print(5 // 2)  # 整除\n",
    "print(5 ** 2)  # 幂运算\n",
    "c = 1 + 2j  # 复数\n",
    "d = 1 - 2j\n",
    "# 复数的加减乘除、平方\n",
    "print(c + d, c - d, c * d, c / d, c ** 2)"
   ],
   "metadata": {
    "collapsed": false,
    "ExecuteTime": {
     "end_time": "2023-11-15T07:16:42.249033300Z",
     "start_time": "2023-11-15T07:16:42.237389800Z"
    }
   },
   "id": "214984c8b2fe2f9d"
  },
  {
   "cell_type": "code",
   "execution_count": 6,
   "outputs": [
    {
     "name": "stdout",
     "output_type": "stream",
     "text": [
      "1.4142135623730951 2.302585092994046 20.085536923187668 1.0\n"
     ]
    }
   ],
   "source": [
    "import math\n",
    "print(math.sqrt(2), math.log(10), math.exp(3), math.sin(math.pi / 2))"
   ],
   "metadata": {
    "collapsed": false,
    "ExecuteTime": {
     "end_time": "2023-11-15T07:16:47.897291100Z",
     "start_time": "2023-11-15T07:16:47.884158400Z"
    }
   },
   "id": "325d83860187aba0"
  },
  {
   "cell_type": "markdown",
   "source": [
    "### 布尔运算"
   ],
   "metadata": {
    "collapsed": false
   },
   "id": "77f57b623fe3c97e"
  },
  {
   "cell_type": "code",
   "execution_count": 7,
   "outputs": [
    {
     "data": {
      "text/plain": "(False, True, True, False, False)"
     },
     "execution_count": 7,
     "metadata": {},
     "output_type": "execute_result"
    }
   ],
   "source": [
    "1 > 2, 2 > 1, 2 >= 1, 2 <= 1, 2 == 1  # 基本的布尔运算"
   ],
   "metadata": {
    "collapsed": false,
    "ExecuteTime": {
     "end_time": "2023-11-15T07:17:09.060018700Z",
     "start_time": "2023-11-15T07:17:09.046585400Z"
    }
   },
   "id": "2648cb4e2300a918"
  },
  {
   "cell_type": "code",
   "execution_count": 8,
   "outputs": [
    {
     "data": {
      "text/plain": "(False, True)"
     },
     "execution_count": 8,
     "metadata": {},
     "output_type": "execute_result"
    }
   ],
   "source": [
    "1 > 2 and 2 > 1, 1 > 2 or 2 > 1  # and和or的用法"
   ],
   "metadata": {
    "collapsed": false,
    "ExecuteTime": {
     "end_time": "2023-11-15T07:17:15.997098100Z",
     "start_time": "2023-11-15T07:17:15.984396100Z"
    }
   },
   "id": "df9b8e3f00ee1c0f"
  },
  {
   "cell_type": "code",
   "execution_count": 9,
   "outputs": [
    {
     "data": {
      "text/plain": "True"
     },
     "execution_count": 9,
     "metadata": {},
     "output_type": "execute_result"
    }
   ],
   "source": [
    "1 < 2 < 3 < 4  # 链式比较"
   ],
   "metadata": {
    "collapsed": false,
    "ExecuteTime": {
     "end_time": "2023-11-15T07:17:22.006282100Z",
     "start_time": "2023-11-15T07:17:21.996152100Z"
    }
   },
   "id": "927477095b627273"
  },
  {
   "cell_type": "markdown",
   "source": [
    "### 运算符优先级"
   ],
   "metadata": {
    "collapsed": false
   },
   "id": "ef6ee8e1695562b5"
  },
  {
   "cell_type": "markdown",
   "source": [
    "| 运算符说明 | Python运算符          | 优先级 |\n",
    "| --- |--------------------| --- |\n",
    "| 小括号 | ()                 | 19 |\n",
    "| 索引运算符 | x[i]或x[i1:i2[:i3]] | 18 |\n",
    "| 属性访问 | x.attribute        | 17 |\n",
    "| 乘方 | **                 | 16 |\n",
    "| 按位取反 | ~                  | 15 |\n",
    "| 符号运算符 | +  -               | 14 |\n",
    "| 乘除 | *  /  //  %        | 13 |\n",
    "| 加减 | +  -               | 12 |\n",
    "| 位移 | >>  <<             | 11 |\n",
    "| 按位与 | \\&                 | 10 |\n",
    "| 按位异或 | ^                  | 9 |\n",
    "| 按位或 | \\|                 | 8 |\n",
    "| 比较运算符 | ==  !=  > >= < <=  | 7 |\n",
    "| is运算符 | is  is not         | 6 |\n",
    "| in运算符 | in  not in         | 5 |\n",
    "| 逻辑非 | not                | 4 |\n",
    "| 逻辑与 | and                | 3 |\n",
    "| 逻辑或 | or                 | 2 |\n",
    "| 逗号运算符 | exp1, exp2         | 1 |"
   ],
   "metadata": {
    "collapsed": false
   },
   "id": "50521a25cff808f4"
  },
  {
   "cell_type": "markdown",
   "source": [
    "### 补充知识：按位或、与、取反、异或"
   ],
   "metadata": {
    "collapsed": false
   },
   "id": "c616465ef835b19"
  },
  {
   "cell_type": "markdown",
   "source": [
    "在Python中，按位运算符包括按位或（`|`）、按位与（`&`）、按位取反（`~`）和按位异或（`^`）。下面我将分别举例说明这些运算符的使用："
   ],
   "metadata": {
    "collapsed": false
   },
   "id": "dd64938f748fb364"
  },
  {
   "cell_type": "markdown",
   "source": [
    "##### 按位或"
   ],
   "metadata": {
    "collapsed": false
   },
   "id": "c1cf2a4fccb1c2ea"
  },
  {
   "cell_type": "markdown",
   "source": [
    "按位或运算符|用于将两个数字的二进制表示中对应的位进行逻辑或运算"
   ],
   "metadata": {
    "collapsed": false
   },
   "id": "b2255d3f881b77a2"
  },
  {
   "cell_type": "code",
   "execution_count": 10,
   "outputs": [
    {
     "name": "stdout",
     "output_type": "stream",
     "text": [
      "7\n"
     ]
    }
   ],
   "source": [
    "a = 5       # 二进制表示为 101\n",
    "b = 3       # 二进制表示为 011\n",
    "result = a | b  # 结果为 7，二进制表示为 111\n",
    "print(result)   # 输出 7"
   ],
   "metadata": {
    "collapsed": false,
    "ExecuteTime": {
     "end_time": "2023-11-15T07:22:09.707139600Z",
     "start_time": "2023-11-15T07:22:09.684324900Z"
    }
   },
   "id": "91c2258c668014c1"
  },
  {
   "cell_type": "markdown",
   "source": [
    "##### 按位与"
   ],
   "metadata": {
    "collapsed": false
   },
   "id": "2a64ed3768e0744"
  },
  {
   "cell_type": "markdown",
   "source": [
    "按位与运算符&用于将两个数字的二进制表示中对应的位进行逻辑与运算"
   ],
   "metadata": {
    "collapsed": false
   },
   "id": "4d178a3beceffe45"
  },
  {
   "cell_type": "code",
   "execution_count": 11,
   "outputs": [
    {
     "name": "stdout",
     "output_type": "stream",
     "text": [
      "1\n"
     ]
    }
   ],
   "source": [
    "a = 5       # 二进制表示为 101\n",
    "b = 3       # 二进制表示为 011\n",
    "result = a & b  # 结果为 1，二进制表示为 001\n",
    "print(result)   # 输出 1"
   ],
   "metadata": {
    "collapsed": false,
    "ExecuteTime": {
     "end_time": "2023-11-15T07:22:53.605242Z",
     "start_time": "2023-11-15T07:22:53.598759200Z"
    }
   },
   "id": "ce39ca2b01112602"
  },
  {
   "cell_type": "markdown",
   "source": [
    "##### 按位取反"
   ],
   "metadata": {
    "collapsed": false
   },
   "id": "3a981e130f84f18f"
  },
  {
   "cell_type": "markdown",
   "source": [
    "按位取反运算符~用于对一个数字的二进制表示中的每一位进行逻辑非运算，即将0变为1，将1变为0"
   ],
   "metadata": {
    "collapsed": false
   },
   "id": "308c00fb4d4785c6"
  },
  {
   "cell_type": "markdown",
   "source": [
    "Python中的~（按位取反）运算的理解：\n",
    "\n",
    "按照我平时的理解，当我使用 \\~按位取反运算的时候，计算机会将操作数所对应的二进制表达式的每一个位进行取反计算，取反后所得到的值就是\\~按位取反的运算结果（这点没问题）\n",
    "\n",
    "例如，假如我的计算机是32位的，我接下来要计算~5的值，计算过程如下：\n",
    "\n",
    "5 的二进制表达式为：0000 0000 0000 0000 0000 0000 0000 0101\n",
    "\n",
    "执行\\~运算，即\\~5后: 1111 1111 1111 1111 1111 1111 1111 1010，即结果为-6\n",
    "\n",
    "以上过程没有任何问题，但我们如果忘记了负数的二进制表达方式，那么就会对这个结果产生疑问，为什么1111 1111 1111 1111 1111 1111 1111 1010表示-6，可能我们会以为它应该表示-10等等，所以，理解~按位取反的另一个关键就是理解1111 1111 1111 1111 1111 1111 1111 1010为什么表示-6，也即理解负数的二进制表达方式。\n",
    "\n",
    "现在计算机普遍使用补码表示负数。知道一个数的补码，要求其值的方法是：首先看符号位也就是最左的一位，如果是1代表是负数(-)如果是0代码是正数(+)，然后对该值取反再+1，得到其源码。\n",
    "\n",
    "例如本例中得到的 1111 1111 1111 1111 1111 1111 1111 1010，其符号位（最左一位）是1，表明它表示的是负数，欲求其源码，需先对其取反，然后再加1：0000 0000 0000 0000 0000 0000 0000 0101 + 1 = 0000 0000 0000 0000 0000 0000 0000 0110，然后在得到的源码前加一个负号，即-0000 0000 0000 0000 0000 0000 0000 0110 = -6。以上便是对\\~按位取反运算以及负数的二进制表示的理解，不难发现，在求源码的时候，要将补码进行取反后再加1，然而这个补码原本就是之前由\\~运算时，对原来的操作数通过~按位取反而得来的，所以，此时在求该补码的源码时的取反操作，相当于将补码变回了原来的那个操作数，之后进行的加1操作就相当于对原来的操作数进行加1，只不过结果变成了他的相反数。\n",
    "\n",
    "因此，可以总结出~按位取反的计算结论是：\\~(n)=-(n+1)"
   ],
   "metadata": {
    "collapsed": false
   },
   "id": "9222e5a8a6111fff"
  },
  {
   "cell_type": "code",
   "execution_count": 12,
   "outputs": [
    {
     "name": "stdout",
     "output_type": "stream",
     "text": [
      "-6\n"
     ]
    }
   ],
   "source": [
    "a = 5       # 二进制表示为 101\n",
    "result = ~a  # 结果为 -6，二进制表示为 -110\n",
    "print(result)   # 输出 -6"
   ],
   "metadata": {
    "collapsed": false,
    "ExecuteTime": {
     "end_time": "2023-11-15T07:23:19.949908700Z",
     "start_time": "2023-11-15T07:23:19.930255700Z"
    }
   },
   "id": "ec8b5b1f3e4d780f"
  },
  {
   "cell_type": "markdown",
   "source": [
    "注意：按位非运算会改变数字的符号并且结果比原数字少1。"
   ],
   "metadata": {
    "collapsed": false
   },
   "id": "d277d57af839105"
  },
  {
   "cell_type": "markdown",
   "source": [
    "##### 按位异或"
   ],
   "metadata": {
    "collapsed": false
   },
   "id": "8bf346251787400b"
  },
  {
   "cell_type": "markdown",
   "source": [
    "按位异或运算符^用于将两个数字的二进制表示中对应的位进行逻辑异或运算，即相同位置的相同位返回0，不同位返回1。"
   ],
   "metadata": {
    "collapsed": false
   },
   "id": "884fa65f39648950"
  },
  {
   "cell_type": "code",
   "execution_count": 13,
   "outputs": [
    {
     "name": "stdout",
     "output_type": "stream",
     "text": [
      "6\n"
     ]
    }
   ],
   "source": [
    "a = 5       # 二进制表示为 101\n",
    "b = 3       # 二进制表示为 011\n",
    "result = a ^ b  # 结果为 6，二进制表示为 110\n",
    "print(result)   # 输出 6\n"
   ],
   "metadata": {
    "collapsed": false,
    "ExecuteTime": {
     "end_time": "2023-11-15T08:11:15.466951300Z",
     "start_time": "2023-11-15T08:11:15.455979200Z"
    }
   },
   "id": "606b76731ca6d2d5"
  },
  {
   "cell_type": "markdown",
   "source": [
    "# 字符串"
   ],
   "metadata": {
    "collapsed": false
   },
   "id": "2a57d3eea386cd29"
  },
  {
   "cell_type": "markdown",
   "source": [
    "# 列表"
   ],
   "metadata": {
    "collapsed": false
   },
   "id": "ed791d0fdaf6f03"
  },
  {
   "cell_type": "markdown",
   "source": [
    "# 元组"
   ],
   "metadata": {
    "collapsed": false
   },
   "id": "8e3a658857d4eee7"
  },
  {
   "cell_type": "markdown",
   "source": [
    "# 集合"
   ],
   "metadata": {
    "collapsed": false
   },
   "id": "d678541bca982f36"
  },
  {
   "cell_type": "markdown",
   "source": [
    "# 字典"
   ],
   "metadata": {
    "collapsed": false
   },
   "id": "403d4c356d4cf21b"
  },
  {
   "cell_type": "code",
   "execution_count": null,
   "outputs": [],
   "source": [],
   "metadata": {
    "collapsed": false
   },
   "id": "1babdce7375c07c5"
  },
  {
   "cell_type": "code",
   "execution_count": null,
   "id": "initial_id",
   "metadata": {
    "collapsed": true
   },
   "outputs": [],
   "source": []
  },
  {
   "cell_type": "markdown",
   "source": [
    "A1: type认为子类和父类不是同一种类型，而isinstance认为二者属于同一种类型"
   ],
   "metadata": {
    "collapsed": false
   },
   "id": "b12bd4fe35cc9e4d"
  }
 ],
 "metadata": {
  "kernelspec": {
   "display_name": "Python 3",
   "language": "python",
   "name": "python3"
  },
  "language_info": {
   "codemirror_mode": {
    "name": "ipython",
    "version": 2
   },
   "file_extension": ".py",
   "mimetype": "text/x-python",
   "name": "python",
   "nbconvert_exporter": "python",
   "pygments_lexer": "ipython2",
   "version": "2.7.6"
  }
 },
 "nbformat": 4,
 "nbformat_minor": 5
}
