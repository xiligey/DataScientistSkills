{
 "cells": [
  {
   "cell_type": "markdown",
   "source": [
    "`collections.defaultdict` 是 Python `collections` 模块的一部分，\n",
    "\n",
    "它提供了一个类似字典（dict）的数据类型，但是它有一个特殊的功能：它可以为字典提供一个默认值。\n",
    "\n",
    "当你尝试访问一个不存在的键时，`defaultdict` 会自动为该键创建一个条目，\n",
    "\n",
    "并将其值设置为你在创建 `defaultdict` 时指定的默认类型的实例。"
   ],
   "metadata": {
    "collapsed": false
   },
   "id": "38093377eb88a266"
  },
  {
   "cell_type": "markdown",
   "source": [
    "### 使用 `defaultdict` 的好处：\n",
    "\n",
    "1. 自动处理缺失的键：避免了 `KeyError` 异常。\n",
    "2. 简化代码：无需预先检查键是否存在于字典中。"
   ],
   "metadata": {
    "collapsed": false
   },
   "id": "a23d6cbd3fcfffdc"
  },
  {
   "cell_type": "markdown",
   "source": [
    "### `defaultdict` 的基本使用：\n",
    "\n",
    "你可以创建一个 `defaultdict` 对象，并传入一个函数，该函数在被调用时不带任何参数返回你想要的默认值。\n",
    "\n",
    "这个函数通常是一个类型，比如 `list`、`int` 或 `set`，它们在被调用时会创建一个新的空实例。"
   ],
   "metadata": {
    "collapsed": false
   },
   "id": "64a79678c4ef696e"
  },
  {
   "cell_type": "code",
   "execution_count": 1,
   "id": "initial_id",
   "metadata": {
    "collapsed": true,
    "ExecuteTime": {
     "end_time": "2023-11-15T12:48:00.416496700Z",
     "start_time": "2023-11-15T12:48:00.402957700Z"
    }
   },
   "outputs": [
    {
     "name": "stdout",
     "output_type": "stream",
     "text": [
      "defaultdict(<class 'int'>, {'m': 1, 'i': 4, 's': 4, 'p': 2})\n",
      "defaultdict(<class 'int'>, {'dog': 1})\n",
      "defaultdict(<class 'list'>, {'dogs': ['Rufus', 'Kathrin'], 'cats': ['Mr Whiskers']})\n"
     ]
    }
   ],
   "source": [
    "from collections import defaultdict\n",
    "\n",
    "# 使用 list 作为默认值\n",
    "s = 'mississippi'\n",
    "d = defaultdict(int)\n",
    "for k in s:\n",
    "    d[k] += 1\n",
    "print(d)  # 输出: defaultdict(<class 'int'>, {'m': 1, 'i': 4, 's': 4, 'p': 2})\n",
    "\n",
    "# 使用 int 作为默认值，可以用来计数\n",
    "d = defaultdict(int)\n",
    "d['dog'] += 1\n",
    "print(d)  # 输出: defaultdict(<class 'int'>, {'dog': 1})\n",
    "\n",
    "# 使用 list 作为默认值，可以很容易地创建值是列表的字典\n",
    "d = defaultdict(list)\n",
    "d['dogs'].append('Rufus')\n",
    "d['dogs'].append('Kathrin')\n",
    "d['cats'].append('Mr Whiskers')\n",
    "print(d)  # 输出: defaultdict(<class 'list'>, {'dogs': ['Rufus', 'Kathrin'], 'cats': ['Mr Whiskers']})\n"
   ]
  },
  {
   "cell_type": "markdown",
   "source": [
    "在上面的例子中，我们首先用 `defaultdict` 创建了一个默认值为 `int`（实际上是 `0`）的字典，然后我们为每个字母计数。\n",
    "\n",
    "对于 `list` 作为默认值的情况，我们可以直接添加元素到每个键对应的列表中，而不用担心这个键是否已经存在于字典中。"
   ],
   "metadata": {
    "collapsed": false
   },
   "id": "ec953cb41f1b215"
  },
  {
   "cell_type": "markdown",
   "source": [
    "### 注意事项：\n",
    "\n",
    "- 当你访问 `defaultdict` 中的一个不存在的键时，即便是通过查看或者测试，它也会自动创建这个键和对应的默认值条目。\n",
    "- 传给 `defaultdict` 的默认工厂函数必须是无参调用的，不能是诸如 `lambda: 'default'`（除非你想要每个默认值都是相同的字符串 'default'）。"
   ],
   "metadata": {
    "collapsed": false
   },
   "id": "1faf4b4adb03082"
  },
  {
   "cell_type": "markdown",
   "source": [
    "### `defaultdict` 的高级用法：\n",
    "\n",
    "`defaultdict` 可以嵌套使用，创建多级默认值的字典结构："
   ],
   "metadata": {
    "collapsed": false
   },
   "id": "ef44f420d06edfa"
  },
  {
   "cell_type": "code",
   "execution_count": 2,
   "outputs": [
    {
     "name": "stdout",
     "output_type": "stream",
     "text": [
      "defaultdict(<function <lambda> at 0x0000020CBCDA0F40>, {'page1': defaultdict(<class 'int'>, {'views': 1})})\n"
     ]
    }
   ],
   "source": [
    "# 嵌套 defaultdict 实现多层默认字典\n",
    "dd = defaultdict(lambda: defaultdict(int))\n",
    "dd['page1']['views'] = 1\n",
    "print(dd)"
   ],
   "metadata": {
    "collapsed": false,
    "ExecuteTime": {
     "end_time": "2023-11-15T12:49:28.498935800Z",
     "start_time": "2023-11-15T12:49:28.489420600Z"
    }
   },
   "id": "b8217f3ea0baefa"
  },
  {
   "cell_type": "markdown",
   "source": [
    "在这个例子中，`dd` 是一个嵌套的 `defaultdict`，外层的 `defaultdict` 用一个 `lambda` 函数创建了内层的 `defaultdict`，而内层的 `defaultdict` 又使用 `int` 作为默认值。\n",
    "\n",
    "`defaultdict` 是一个非常有用的工具，可以使处理集合数据和计数任务更加简洁和高效。"
   ],
   "metadata": {
    "collapsed": false
   },
   "id": "6ed328c19950d85e"
  }
 ],
 "metadata": {
  "kernelspec": {
   "display_name": "Python 3",
   "language": "python",
   "name": "python3"
  },
  "language_info": {
   "codemirror_mode": {
    "name": "ipython",
    "version": 2
   },
   "file_extension": ".py",
   "mimetype": "text/x-python",
   "name": "python",
   "nbconvert_exporter": "python",
   "pygments_lexer": "ipython2",
   "version": "2.7.6"
  }
 },
 "nbformat": 4,
 "nbformat_minor": 5
}
