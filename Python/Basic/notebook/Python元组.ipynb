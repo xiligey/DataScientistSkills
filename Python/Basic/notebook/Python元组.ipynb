{
 "cells": [
  {
   "cell_type": "markdown",
   "source": [
    "元组是不可变序列，通常用于储存异构数据的多项集（例如由 enumerate() 内置函数所产生的二元组）。 \n",
    "元组也被用于需要同构数据的不可变序列的情况（例如允许存储到 set 或 dict 的实例）\n",
    "\n",
    "可以用多种方式构建元组：\n",
    "- 使用一对圆括号来表示空元组: ()\n",
    "- 使用一个后缀的逗号来表示单元组: a, 或 (a,)\n",
    "- 使用以逗号分隔的多个项: a, b, c or (a, b, c)\n",
    "- 使用内置的 tuple(): tuple() 或 tuple(iterable)"
   ],
   "metadata": {
    "collapsed": false
   },
   "id": "858d95df3a035c39"
  },
  {
   "cell_type": "code",
   "execution_count": 1,
   "id": "initial_id",
   "metadata": {
    "collapsed": true,
    "ExecuteTime": {
     "end_time": "2023-11-15T10:08:12.672753100Z",
     "start_time": "2023-11-15T10:08:12.658098500Z"
    }
   },
   "outputs": [
    {
     "name": "stdout",
     "output_type": "stream",
     "text": [
      "<class 'tuple'> <class 'tuple'> <class 'tuple'> <class 'tuple'>\n"
     ]
    }
   ],
   "source": [
    "t1 = (1, 2, 3)\n",
    "t2 = tuple('123')\n",
    "t3 = 1, 2\n",
    "t4 = 1,\n",
    "print(type(t1), type(t2), type(t3), type(t4))"
   ]
  },
  {
   "cell_type": "markdown",
   "source": [
    "# 元组常见操作"
   ],
   "metadata": {
    "collapsed": false
   },
   "id": "ec0c6d4d045118d6"
  },
  {
   "cell_type": "code",
   "execution_count": 2,
   "outputs": [
    {
     "name": "stdout",
     "output_type": "stream",
     "text": [
      "6\n",
      "1 6\n",
      "(2, 3, 4)\n",
      "(1, 2, 3, 4, 5, 6, 1, 2, 3, 4, 5, 6)\n",
      "1\n",
      "2\n",
      "3\n",
      "4\n",
      "5\n",
      "6\n"
     ]
    }
   ],
   "source": [
    "t = (1, 2, 3, 4, 5, 6)\n",
    "\n",
    "# 求长度\n",
    "print(len(t))\n",
    "\n",
    "# 索引\n",
    "print(t[0], t[-1])\n",
    "\n",
    "# 切片\n",
    "print(t[1:4])\n",
    "\n",
    "# 删除\n",
    "# del t[3]\n",
    "# TypeError: 'tuple' object doesn't support item deletion\n",
    "\n",
    "# 合并两个元组为新的元组\n",
    "print(t + t)\n",
    "\n",
    "# 遍历元组\n",
    "for i in t:\n",
    "    print(i)\n"
   ],
   "metadata": {
    "collapsed": false,
    "ExecuteTime": {
     "end_time": "2023-11-15T10:08:29.053387200Z",
     "start_time": "2023-11-15T10:08:29.045113900Z"
    }
   },
   "id": "95f2d9e04ddcd0a1"
  },
  {
   "cell_type": "code",
   "execution_count": null,
   "outputs": [],
   "source": [],
   "metadata": {
    "collapsed": false
   },
   "id": "da1f7490c18a90f"
  }
 ],
 "metadata": {
  "kernelspec": {
   "display_name": "Python 3",
   "language": "python",
   "name": "python3"
  },
  "language_info": {
   "codemirror_mode": {
    "name": "ipython",
    "version": 2
   },
   "file_extension": ".py",
   "mimetype": "text/x-python",
   "name": "python",
   "nbconvert_exporter": "python",
   "pygments_lexer": "ipython2",
   "version": "2.7.6"
  }
 },
 "nbformat": 4,
 "nbformat_minor": 5
}
